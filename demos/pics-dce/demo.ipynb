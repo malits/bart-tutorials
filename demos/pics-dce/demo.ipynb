{
 "cells": [
  {
   "cell_type": "markdown",
   "metadata": {},
   "source": [
    "# Dynamic Contrast Enhanced Image Reconstruction with BART"
   ]
  },
  {
   "cell_type": "code",
   "execution_count": null,
   "metadata": {
    "collapsed": false
   },
   "outputs": [],
   "source": [
    "export PATH=${TOOLBOX_PATH}:${PATH}\n",
    "export DEBUG_LEVEL=1"
   ]
  },
  {
   "cell_type": "markdown",
   "metadata": {},
   "source": [
    "In this demo we will investigate prospectively under-sampled dynamic contrast enhanced (DCE) MRI data provided by [Tao\n",
    "Zhang](http://web.stanford.edu/~tzhang08/). \n",
    "\n",
    "Unzip the data and it will be placed under `data/`."
   ]
  },
  {
   "cell_type": "code",
   "execution_count": null,
   "metadata": {
    "collapsed": false
   },
   "outputs": [],
   "source": [
    "unzip data.zip"
   ]
  },
  {
   "cell_type": "markdown",
   "metadata": {},
   "source": [
    "The data consist of a single slice from under-sampled multi-channel, Cartesian k-space binned into temporal phases, as well as\n",
    "ESPIRiT sensitivity maps and sampling weights derived\n",
    "from navigator data. \n",
    "\n",
    "We will first look at the datasets. BART provides a simple multi-dimensional viewer `bartview.py` in python. We also have a more sophisticated viewer `view` in development available at:\n",
    "    https://github.com/mrirecon/view"
   ]
  },
  {
   "cell_type": "code",
   "execution_count": null,
   "metadata": {
    "collapsed": false
   },
   "outputs": [],
   "source": [
    "view data/ksp\n",
    "bartview.py data/maps\n",
    "view data/weights"
   ]
  },
  {
   "cell_type": "markdown",
   "metadata": {},
   "source": [
    "We can see the dimensions using the `show` command:"
   ]
  },
  {
   "cell_type": "code",
   "execution_count": null,
   "metadata": {
    "collapsed": false
   },
   "outputs": [],
   "source": [
    "bart show -m data/ksp"
   ]
  },
  {
   "cell_type": "markdown",
   "metadata": {},
   "source": [
    "The MRI-specific BART commands assume that the first three dimensions represent space/spatial k-space, the next two dimensions\n",
    "represent coils and ESPIRiT maps, and the 10th dimension (zero-indexing) represents temporal phases.\n",
    "We see the spatial dimensions are `1 X 68 x 180`, with 20 coils and 18 temporal phases."
   ]
  },
  {
   "cell_type": "markdown",
   "metadata": {},
   "source": [
    "To start, let's compute the sampling pattern and compare it to the k-space weighting mask.\n",
    "The weighting mask assigns each phase encode a weight between zero and one, depending on the amount of\n",
    "motion-corruption."
   ]
  },
  {
   "cell_type": "code",
   "execution_count": null,
   "metadata": {
    "collapsed": false
   },
   "outputs": [],
   "source": [
    "bart pattern data/ksp data/pat # generate a sampling pattern from k-space\n",
    "bart join 1 data/pat data/weights data/pat_weights\n",
    "bart show -m data/pat_weights"
   ]
  },
  {
   "cell_type": "markdown",
   "metadata": {},
   "source": [
    "We can sum along the temporal dimension using the `fmac` (fused multiply accumulate) tool:"
   ]
  },
  {
   "cell_type": "code",
   "execution_count": null,
   "metadata": {
    "collapsed": false
   },
   "outputs": [],
   "source": [
    "bart fmac -h"
   ]
  },
  {
   "cell_type": "markdown",
   "metadata": {},
   "source": [
    "The bitmask is used to specify the dimensions we want to sum over. We can quickly compute a bitmask using the `bitmask`\n",
    "tool:"
   ]
  },
  {
   "cell_type": "code",
   "execution_count": null,
   "metadata": {
    "collapsed": false
   },
   "outputs": [],
   "source": [
    "bart bitmask 10 # bitmask for the temporal dimensions\n",
    "bart bitmask 0 1 2 # bitmask for 3D spatial dimensions"
   ]
  },
  {
   "cell_type": "markdown",
   "metadata": {},
   "source": [
    "To sum over the temporal dimension, we create a BART file containing a single entry with value one, and sum over the\n",
    "10th dimension:"
   ]
  },
  {
   "cell_type": "code",
   "execution_count": null,
   "metadata": {
    "collapsed": false
   },
   "outputs": [],
   "source": [
    "bart ones 1 1 o\n",
    "bart fmac -s $(bart bitmask 10) data/pat_weights o data/pat_weights_sum\n",
    "view data/pat_weights_sum & # visualize the result"
   ]
  },
  {
   "cell_type": "markdown",
   "metadata": {},
   "source": [
    "We will use the `pics` tool to perform ESPIRiT-based parallel imaging and compressed sensing. The basic usage is\n",
    "\n",
    "    bart pics [optimization options] [regularization options] kspace maps recon\n",
    "    \n",
    "See the full list with `bart pics -h` and `bart pics -Rh`.\n",
    "There are several built-in regularization terms and transforms. We can see the options by invoking the help:"
   ]
  },
  {
   "cell_type": "code",
   "execution_count": null,
   "metadata": {
    "collapsed": false
   },
   "outputs": [],
   "source": [
    "bart pics -h"
   ]
  },
  {
   "cell_type": "code",
   "execution_count": null,
   "metadata": {
    "collapsed": false
   },
   "outputs": [],
   "source": [
    "bart pics -Rh"
   ]
  },
  {
   "cell_type": "markdown",
   "metadata": {},
   "source": [
    "## L1-wavelets in space and total variation in time."
   ]
  },
  {
   "cell_type": "markdown",
   "metadata": {},
   "source": [
    "Initialize the viewer with zero-filled reconstruction"
   ]
  },
  {
   "cell_type": "code",
   "execution_count": null,
   "metadata": {
    "collapsed": false
   },
   "outputs": [],
   "source": [
    "bart pics -i 1 data/ksp data/maps recon_wavtv\n",
    "view recon_wavtv&"
   ]
  },
  {
   "cell_type": "code",
   "execution_count": null,
   "metadata": {
    "collapsed": false
   },
   "outputs": [],
   "source": [
    "bart pics   -i 100 \\\n",
    "            -p data/weights \\\n",
    "            -R W:$(bart bitmask 0 1 2):0:0.001 \\\n",
    "            -R T:$(bart bitmask 10):0:.04 \\\n",
    "            data/ksp data/maps recon_wavtv\n"
   ]
  },
  {
   "cell_type": "markdown",
   "metadata": {},
   "source": [
    "## Locally low rank (LLR)."
   ]
  },
  {
   "cell_type": "markdown",
   "metadata": {},
   "source": [
    "Initialize the viewer with zero-filled reconstruction"
   ]
  },
  {
   "cell_type": "code",
   "execution_count": null,
   "metadata": {
    "collapsed": false
   },
   "outputs": [],
   "source": [
    "bart pics -i 1 data/ksp data/maps recon_llr\n",
    "view recon_llr&"
   ]
  },
  {
   "cell_type": "code",
   "execution_count": null,
   "metadata": {
    "collapsed": false
   },
   "outputs": [],
   "source": [
    "bart pics   -i 100 \\\n",
    "            -R L:$(bart bitmask 0 1 2):$(bart bitmask 0 1 2):0.01 \\\n",
    "            data/ksp data/maps recon_llr"
   ]
  },
  {
   "cell_type": "markdown",
   "metadata": {},
   "source": [
    "Combine the reconstructions and compare"
   ]
  },
  {
   "cell_type": "code",
   "execution_count": null,
   "metadata": {
    "collapsed": false
   },
   "outputs": [],
   "source": [
    "bart join 1 recon_wavtv recon_llr recon_compare # combine the reconstructions\n",
    "view recon_compare &"
   ]
  }
 ],
 "metadata": {
  "kernelspec": {
   "display_name": "Bash",
   "language": "bash",
   "name": "bash"
  },
  "language_info": {
   "codemirror_mode": "shell",
   "file_extension": ".sh",
   "mimetype": "text/x-sh",
   "name": "bash"
  }
 },
 "nbformat": 4,
 "nbformat_minor": 0
}
