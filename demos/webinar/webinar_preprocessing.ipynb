{
 "cells": [
  {
   "cell_type": "markdown",
   "metadata": {},
   "source": [
    "# Introduction and Pre-Processing"
   ]
  },
  {
   "cell_type": "markdown",
   "metadata": {},
   "source": [
    "In this notebook, we demonstrate key preprocessing steps for dealing with image data in BART. More precisely, we will reconstruct a slice of multi-coil 3D data.\n",
    "\n",
    "## TODO:\n",
    "   * [ ] Flesh out descriptions - current ones are just placeholders for myself\n",
    "   * [ ] What do view params do?"
   ]
  },
  {
   "cell_type": "markdown",
   "metadata": {},
   "source": [
    "In this tutorial, we will be exploring reconstructing a 3D FSE scan of a knee from Raw K-Space data. The data is available [here](http://old.mridata.org/fullysampled/knees) if you are looking to recreate these results on your own."
   ]
  },
  {
   "cell_type": "markdown",
   "metadata": {},
   "source": [
    "Before viewing the image, we are going to use `bart show` to get a better understanding of the data we are working with. BART data is stored in two files, a header (`.hdr`) file which contains metadata (dimensions, file type, etc) and a complex float (`.cfl`) file which contains the raw data. By default, `show` will print the raw complex values. With the `-m` flag, we can view the file metadata, as we've done below:"
   ]
  },
  {
   "cell_type": "code",
   "execution_count": 3,
   "metadata": {},
   "outputs": [
    {
     "name": "stdout",
     "output_type": "stream",
     "text": [
      "Type: complex float\n",
      "Dimensions: 16\n",
      "AoD:\t320\t320\t256\t8\t1\t1\t1\t1\t1\t1\t1\t1\t1\t1\t1\t1\n"
     ]
    }
   ],
   "source": [
    "bart show -m kspace"
   ]
  },
  {
   "cell_type": "markdown",
   "metadata": {},
   "source": [
    "The `AoD` header tells us that we are working with k-space data of 320 values in the spatial frequency/$k_x$ direction, and 320 values in the phase encoding/$k_y$ direction. We have 256 slices, and the data has been collected from 8 coils."
   ]
  },
  {
   "cell_type": "markdown",
   "metadata": {},
   "source": [
    "[view](https://www.github.com/mrirecon/view) is an open-source viewer for BART data. We are going to use it to explore the 3D K-Space data and then extract a slice to reconstruct."
   ]
  },
  {
   "cell_type": "code",
   "execution_count": 4,
   "metadata": {},
   "outputs": [
    {
     "name": "stdout",
     "output_type": "stream",
     "text": [
      "[1] 2029\n"
     ]
    }
   ],
   "source": [
    "view kspace&"
   ]
  },
  {
   "cell_type": "markdown",
   "metadata": {},
   "source": [
    "**TODO**: What do BART sliders parameterize? Indicate here how users can recreate results, but explain what settings are doing. Additionally, would showing how `view` lets a user view the phase be of interest here as well?\n",
    "\n",
    "**SETTINGS**\n",
    "First slider: 0\n",
    "Second: 0.001\n",
    "Third 1.4\n",
    "Fourth 1.0\n",
    "\n",
    "We are going to extract the slice 128. Using the column on the left (for those following along: click the settings icon) we can choose which slice to view. We can adjust the value below this one to choose the coil to view the results from. "
   ]
  },
  {
   "cell_type": "code",
   "execution_count": 5,
   "metadata": {},
   "outputs": [
    {
     "name": "stdout",
     "output_type": "stream",
     "text": [
      "dbus[2029]: Dynamic session lookup supported but failed: launchd did not provide a socket path, verify that org.freedesktop.dbus-session.plist is loaded!\n",
      "Usage: slice dim1 pos1 ... dimn posn <input> <output>\n",
      "\n",
      "Extracts a slice from positions along dimensions.\n",
      "\n",
      "\n",
      "-h\t\thelp\n"
     ]
    }
   ],
   "source": [
    "bart slice -h"
   ]
  },
  {
   "cell_type": "markdown",
   "metadata": {},
   "source": [
    "Recalling our image metadata, we can see that dimension `2` corresponds to the slices of the 3D image. We are going to extract the slice at position `128`, so our command looks as follows:"
   ]
  },
  {
   "cell_type": "code",
   "execution_count": 6,
   "metadata": {},
   "outputs": [],
   "source": [
    "bart slice 2 128 kspace ksp_slice"
   ]
  },
  {
   "cell_type": "markdown",
   "metadata": {},
   "source": [
    "Using `show` we verify that our slice dimensions look correct."
   ]
  },
  {
   "cell_type": "code",
   "execution_count": 7,
   "metadata": {},
   "outputs": [
    {
     "name": "stdout",
     "output_type": "stream",
     "text": [
      "Type: complex float\n",
      "Dimensions: 16\n",
      "AoD:\t320\t320\t1\t8\t1\t1\t1\t1\t1\t1\t1\t1\t1\t1\t1\t1\n"
     ]
    }
   ],
   "source": [
    "bart show -m ksp_slice"
   ]
  },
  {
   "cell_type": "markdown",
   "metadata": {},
   "source": [
    "Dimensions look good! We have preserved the $k_x$ and $k_y$ dimensions as well as the number of coils. Let's look at the image in `view`"
   ]
  },
  {
   "cell_type": "code",
   "execution_count": 8,
   "metadata": {},
   "outputs": [
    {
     "name": "stdout",
     "output_type": "stream",
     "text": [
      "[2] 2035\n"
     ]
    },
    {
     "ename": "",
     "evalue": "1",
     "output_type": "error",
     "traceback": []
    }
   ],
   "source": [
    "view ksp_slice&"
   ]
  },
  {
   "cell_type": "markdown",
   "metadata": {},
   "source": [
    "We will now use BART's build in coil compression method, `cc`, to compress to four virtual coils. The `-G` flag enables [Geometric](https://onlinelibrary.wiley.com/doi/full/10.1002/mrm.24267) coil compression, but additional flags offer SVD and ESPIRiT based methods as well."
   ]
  },
  {
   "cell_type": "code",
   "execution_count": 10,
   "metadata": {},
   "outputs": [
    {
     "name": "stdout",
     "output_type": "stream",
     "text": [
      "Done.\n"
     ]
    }
   ],
   "source": [
    "bart cc -p 4 -G ksp_slice ksp_cc"
   ]
  },
  {
   "cell_type": "markdown",
   "metadata": {},
   "source": [
    "`-p` allows us to specify the number of virtual coils we wish to compress to."
   ]
  },
  {
   "cell_type": "code",
   "execution_count": 11,
   "metadata": {},
   "outputs": [
    {
     "name": "stdout",
     "output_type": "stream",
     "text": [
      "Type: complex float\n",
      "Dimensions: 16\n",
      "AoD:\t320\t320\t1\t4\t1\t1\t1\t1\t1\t1\t1\t1\t1\t1\t1\t1\n"
     ]
    }
   ],
   "source": [
    "bart show -m ksp_cc"
   ]
  },
  {
   "cell_type": "markdown",
   "metadata": {},
   "source": [
    "Dimension `3` - the number of coils - has changed to reflect our compression. This looks good, let's take a look at the image in `view`."
   ]
  },
  {
   "cell_type": "code",
   "execution_count": 12,
   "metadata": {},
   "outputs": [
    {
     "name": "stdout",
     "output_type": "stream",
     "text": [
      "[3] 2159\n"
     ]
    }
   ],
   "source": [
    "view ksp_cc&"
   ]
  },
  {
   "cell_type": "markdown",
   "metadata": {},
   "source": [
    "Now, we are going to demonstrate how to perform a simple inverse FFT on the k-space data. Note: to specify the dimensions BART operates on, one must pass in an appropriate bitmask: (e.g., for dimensions 0 and 1, this bitmask is calculated as $2^0 + 2^1 = 3$). `bart bitmask` automatically computes this value for us."
   ]
  },
  {
   "cell_type": "markdown",
   "metadata": {},
   "source": [
    "`-u` and `-i` indicate that we want a unitary and inverse FFT respectively."
   ]
  },
  {
   "cell_type": "code",
   "execution_count": 14,
   "metadata": {},
   "outputs": [
    {
     "name": "stdout",
     "output_type": "stream",
     "text": [
      "Usage: fft [-u] [-i] [-n] bitmask <input> <output>\n",
      "\n",
      "Performs a fast Fourier transform (FFT) along selected dimensions.\n",
      "\n",
      "-u\t\tunitary\n",
      "-i\t\tinverse\n",
      "-n\t\tun-centered\n",
      "-h\t\thelp\n"
     ]
    }
   ],
   "source": [
    "bart fft -h"
   ]
  },
  {
   "cell_type": "code",
   "execution_count": 15,
   "metadata": {},
   "outputs": [],
   "source": [
    "bart fft -u -i $(bart bitmask 0 1) ksp_cc ksp_fft"
   ]
  },
  {
   "cell_type": "code",
   "execution_count": 16,
   "metadata": {},
   "outputs": [
    {
     "name": "stdout",
     "output_type": "stream",
     "text": [
      "Type: complex float\n",
      "Dimensions: 16\n",
      "AoD:\t320\t320\t1\t4\t1\t1\t1\t1\t1\t1\t1\t1\t1\t1\t1\t1\n"
     ]
    }
   ],
   "source": [
    "bart show -m ksp_fft"
   ]
  },
  {
   "cell_type": "code",
   "execution_count": 17,
   "metadata": {},
   "outputs": [
    {
     "name": "stdout",
     "output_type": "stream",
     "text": [
      "[4] 2167\n"
     ]
    },
    {
     "ename": "",
     "evalue": "1",
     "output_type": "error",
     "traceback": []
    }
   ],
   "source": [
    "view ksp_fft&"
   ]
  },
  {
   "cell_type": "markdown",
   "metadata": {},
   "source": [
    "Voila! The knee image has been reconstructed across the four channels. We can now use a root-sum-of-squares (`rss`) method to combine the multi-coil data."
   ]
  },
  {
   "cell_type": "code",
   "execution_count": 19,
   "metadata": {},
   "outputs": [],
   "source": [
    "bart rss $(bart bitmask 3) ksp_fft ksp_combined"
   ]
  },
  {
   "cell_type": "code",
   "execution_count": 22,
   "metadata": {},
   "outputs": [
    {
     "name": "stdout",
     "output_type": "stream",
     "text": [
      "[1] 2174\n"
     ]
    },
    {
     "ename": "",
     "evalue": "1",
     "output_type": "error",
     "traceback": []
    }
   ],
   "source": [
    "view ksp_combined&"
   ]
  },
  {
   "cell_type": "markdown",
   "metadata": {},
   "source": []
  }
 ],
 "metadata": {
  "kernelspec": {
   "display_name": "Bash",
   "language": "bash",
   "name": "bash"
  },
  "language_info": {
   "codemirror_mode": "shell",
   "file_extension": ".sh",
   "mimetype": "text/x-sh",
   "name": "bash"
  },
  "toc": {
   "base_numbering": 1,
   "nav_menu": {},
   "number_sections": false,
   "sideBar": true,
   "skip_h1_title": false,
   "title_cell": "Table of Contents",
   "title_sidebar": "Contents",
   "toc_cell": false,
   "toc_position": {},
   "toc_section_display": true,
   "toc_window_display": true
  }
 },
 "nbformat": 4,
 "nbformat_minor": 4
}
