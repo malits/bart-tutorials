{
 "cells": [
  {
   "cell_type": "markdown",
   "metadata": {},
   "source": [
    "# Introduction and Pre-Processing"
   ]
  },
  {
   "cell_type": "markdown",
   "metadata": {},
   "source": [
    "In this notebook, we explore a handful of the preprocessing tools BART offers."
   ]
  },
  {
   "cell_type": "markdown",
   "metadata": {},
   "source": [
    "### Setup"
   ]
  },
  {
   "cell_type": "markdown",
   "metadata": {},
   "source": [
    "If you are runnning locally, you will need [BART](https://www.github.com/mrirecon/bart) as well as [View](https://www.github.com/mrirecon/view), an open-source tool to view data. Once both are installed, run the following cell to add the necessary directories to your `PATH`. Make sure to change the placeholder directories to the directories where you have installed BART and View."
   ]
  },
  {
   "cell_type": "code",
   "execution_count": 1,
   "metadata": {},
   "outputs": [],
   "source": [
    "export PATH=/path/to/bart:$PATH\n",
    "export PATH=/path/to/view:$PATH"
   ]
  },
  {
   "cell_type": "markdown",
   "metadata": {},
   "source": [
    "### File Formats and Metadata"
   ]
  },
  {
   "cell_type": "markdown",
   "metadata": {},
   "source": [
    "As a motivating example, we will be reconstructing a slice of a 3D FSE scan of a knee. The data is available [here](http://old.mridata.org/fullysampled/knees) if you are looking to recreate these results on your own, or experiment on other MR datasets. The following cell will download and unpack the data for ease of use and navigation"
   ]
  },
  {
   "cell_type": "code",
   "execution_count": null,
   "metadata": {},
   "outputs": [],
   "source": [
    "wget http://old.mridata.org/knees/fully_sampled/p1/e1/s1/P1.zip\n",
    "unzip P1.zip\n",
    "mv p1/e1/s1/* .\n",
    "rmdir p1"
   ]
  },
  {
   "cell_type": "markdown",
   "metadata": {},
   "source": [
    "Before viewing the image, we are going to use `bart show` to get a better understanding of the data we are working with. BART data is stored in two files, a header (`.hdr`) file which contains metadata (dimensions, file type, etc) and a complex float (`.cfl`) file which contains the raw data. By default, `show` will print the contents of the `.cfl` file. To view the metadata, append the `-m` flag to the command."
   ]
  },
  {
   "cell_type": "code",
   "execution_count": 23,
   "metadata": {},
   "outputs": [
    {
     "name": "stdout",
     "output_type": "stream",
     "text": [
      "dbus[2079]: Dynamic session lookup supported but failed: launchd did not provide a socket path, verify that org.freedesktop.dbus-session.plist is loaded!\n",
      "Type: complex float\n",
      "Dimensions: 16\n",
      "AoD:\t320\t320\t256\t8\t1\t1\t1\t1\t1\t1\t1\t1\t1\t1\t1\t1\n"
     ]
    }
   ],
   "source": [
    "bart show -m kspace"
   ]
  },
  {
   "cell_type": "markdown",
   "metadata": {},
   "source": [
    "The `AoD` header tells us that we are working with k-space data of 320 values in the spatial frequency/$k_x$ direction, and 320 values in the phase encoding/$k_y$ direction. We have 256 slices, and the data has been collected from 8 coils. Let's take a look in `view`."
   ]
  },
  {
   "cell_type": "code",
   "execution_count": 24,
   "metadata": {},
   "outputs": [
    {
     "name": "stdout",
     "output_type": "stream",
     "text": [
      "[4] 2084\n"
     ]
    },
    {
     "ename": "",
     "evalue": "1",
     "output_type": "error",
     "traceback": []
    }
   ],
   "source": [
    "view kspace&"
   ]
  },
  {
   "cell_type": "markdown",
   "metadata": {},
   "source": [
    "**TODO**: What do BART sliders parameterize? Indicate here how users can recreate results, but explain what settings are doing. Additionally, would showing how `view` lets a user view the phase be of interest here as well?\n",
    "\n",
    "**SETTINGS**\n",
    "First slider: 0\n",
    "Second: 0.001\n",
    "Third 1.4\n",
    "Fourth 1.0\n",
    "\n",
    "We are going to extract the slice 128. Using the column on the left (for those following along: click the settings icon) we can choose which slice to view. We can adjust the value below this one to choose the coil to view the results from. "
   ]
  },
  {
   "cell_type": "markdown",
   "metadata": {},
   "source": [
    "### Performing Inverse FFT Along the Readout Direction"
   ]
  },
  {
   "cell_type": "markdown",
   "metadata": {},
   "source": [
    "**TODO**: Motivation for why we do this"
   ]
  },
  {
   "cell_type": "markdown",
   "metadata": {},
   "source": [
    "Prior to extracting a slice, we perform an inverse FFT along the readout direction"
   ]
  },
  {
   "cell_type": "markdown",
   "metadata": {},
   "source": [
    "Now, we are going to demonstrate how to perform a simple inverse FFT on the k-space data. Note: to specify the dimensions BART operates on, one must pass in an appropriate bitmask: (e.g., for dimensions 0 and 1, this bitmask is calculated as $2^0 + 2^1 = 3$). `bart bitmask` automatically computes this value for us."
   ]
  },
  {
   "cell_type": "code",
   "execution_count": 14,
   "metadata": {},
   "outputs": [
    {
     "name": "stdout",
     "output_type": "stream",
     "text": [
      "Usage: fft [-u] [-i] [-n] bitmask <input> <output>\n",
      "\n",
      "Performs a fast Fourier transform (FFT) along selected dimensions.\n",
      "\n",
      "-u\t\tunitary\n",
      "-i\t\tinverse\n",
      "-n\t\tun-centered\n",
      "-h\t\thelp\n"
     ]
    }
   ],
   "source": [
    "bart fft -h"
   ]
  },
  {
   "cell_type": "markdown",
   "metadata": {},
   "source": [
    "`-u` and `-i` indicate that we want a unitary and inverse FFT respectively."
   ]
  },
  {
   "cell_type": "code",
   "execution_count": 10,
   "metadata": {},
   "outputs": [
    {
     "name": "stdout",
     "output_type": "stream",
     "text": [
      "[1]+  Done                    view knee_fft\n"
     ]
    }
   ],
   "source": [
    "bart fft -u -i $(bart bitmask 2) kspace kspace_fft"
   ]
  },
  {
   "cell_type": "markdown",
   "metadata": {},
   "source": [
    "Let's examine the dimensions of the result of applying the inverse FFT, and take a look in view. "
   ]
  },
  {
   "cell_type": "code",
   "execution_count": 11,
   "metadata": {},
   "outputs": [
    {
     "name": "stdout",
     "output_type": "stream",
     "text": [
      "Type: complex float\n",
      "Dimensions: 16\n",
      "AoD:\t320\t320\t256\t8\t1\t1\t1\t1\t1\t1\t1\t1\t1\t1\t1\t1\n"
     ]
    }
   ],
   "source": [
    "bart show -m kspace_fft"
   ]
  },
  {
   "cell_type": "code",
   "execution_count": 13,
   "metadata": {},
   "outputs": [
    {
     "name": "stdout",
     "output_type": "stream",
     "text": [
      "[2] 1711\n"
     ]
    },
    {
     "ename": "",
     "evalue": "1",
     "output_type": "error",
     "traceback": []
    }
   ],
   "source": [
    "view kspace_fft&"
   ]
  },
  {
   "cell_type": "markdown",
   "metadata": {},
   "source": [
    "### Extracting a Slice Along the Readout Direction"
   ]
  },
  {
   "cell_type": "markdown",
   "metadata": {},
   "source": [
    "`bart slice` allows us to extract a designated slice of an image along a specified dimension. We will extract a slice along the readout direction to later perform an FFT on. "
   ]
  },
  {
   "cell_type": "code",
   "execution_count": 5,
   "metadata": {},
   "outputs": [
    {
     "name": "stdout",
     "output_type": "stream",
     "text": [
      "dbus[4186]: Dynamic session lookup supported but failed: launchd did not provide a socket path, verify that org.freedesktop.dbus-session.plist is loaded!\n",
      "Usage: slice dim1 pos1 ... dimn posn <input> <output>\n",
      "\n",
      "Extracts a slice from positions along dimensions.\n",
      "\n",
      "\n",
      "-h\t\thelp\n"
     ]
    }
   ],
   "source": [
    "bart slice -h"
   ]
  },
  {
   "cell_type": "markdown",
   "metadata": {},
   "source": [
    "Recalling our image metadata, we can see that dimension `2` corresponds to the slices of the 3D image. We are going to extract the slice at position `128`, so our command looks as follows:"
   ]
  },
  {
   "cell_type": "code",
   "execution_count": 6,
   "metadata": {},
   "outputs": [],
   "source": [
    "bart slice 2 128 kspace_fft ksp_slice"
   ]
  },
  {
   "cell_type": "markdown",
   "metadata": {},
   "source": [
    "Using `show` we verify that our slice dimensions look correct."
   ]
  },
  {
   "cell_type": "code",
   "execution_count": 7,
   "metadata": {},
   "outputs": [
    {
     "name": "stdout",
     "output_type": "stream",
     "text": [
      "Type: complex float\n",
      "Dimensions: 16\n",
      "AoD:\t320\t320\t1\t8\t1\t1\t1\t1\t1\t1\t1\t1\t1\t1\t1\t1\n"
     ]
    }
   ],
   "source": [
    "bart show -m ksp_slice"
   ]
  },
  {
   "cell_type": "markdown",
   "metadata": {},
   "source": [
    "Dimensions look good! We have preserved the $k_x$ and $k_y$ dimensions as well as the number of coils. Let's look at the image in `view`"
   ]
  },
  {
   "cell_type": "code",
   "execution_count": 8,
   "metadata": {},
   "outputs": [
    {
     "name": "stdout",
     "output_type": "stream",
     "text": [
      "[2] 2035\n"
     ]
    },
    {
     "ename": "",
     "evalue": "1",
     "output_type": "error",
     "traceback": []
    }
   ],
   "source": [
    "view ksp_slice&"
   ]
  },
  {
   "cell_type": "markdown",
   "metadata": {},
   "source": [
    "### Resizing"
   ]
  },
  {
   "cell_type": "markdown",
   "metadata": {},
   "source": [
    "`bart resize` can be used to manipulate data. We'll briefly explore resizing our slice with the tool."
   ]
  },
  {
   "cell_type": "code",
   "execution_count": 2,
   "metadata": {},
   "outputs": [
    {
     "name": "stdout",
     "output_type": "stream",
     "text": [
      "Usage: resize [-c] dim1 size1 ... dimn sizen <input> <output>\n",
      "\n",
      "Resizes an array along dimensions to sizes by truncating or zero-padding.\n",
      "\n",
      "-c\t\tcenter\n",
      "-h\t\thelp\n"
     ]
    }
   ],
   "source": [
    "bart resize -h"
   ]
  },
  {
   "cell_type": "code",
   "execution_count": 3,
   "metadata": {},
   "outputs": [],
   "source": [
    "bart resize -c 0 160 1 160 ksp_slice resized_slice"
   ]
  },
  {
   "cell_type": "code",
   "execution_count": 4,
   "metadata": {},
   "outputs": [
    {
     "name": "stdout",
     "output_type": "stream",
     "text": [
      "[1] 4341\n"
     ]
    }
   ],
   "source": [
    "view resized_slice&"
   ]
  },
  {
   "cell_type": "markdown",
   "metadata": {},
   "source": [
    "We've adjusted the dime"
   ]
  },
  {
   "cell_type": "markdown",
   "metadata": {},
   "source": [
    "### Coil Compression"
   ]
  },
  {
   "cell_type": "markdown",
   "metadata": {},
   "source": [
    "We will now use BART's build in coil compression method, `cc`, to compress to four virtual coils. The `-G` flag enables [Geometric](https://onlinelibrary.wiley.com/doi/full/10.1002/mrm.24267) coil compression, but additional flags offer SVD and ESPIRiT based methods as well."
   ]
  },
  {
   "cell_type": "code",
   "execution_count": 10,
   "metadata": {},
   "outputs": [
    {
     "name": "stdout",
     "output_type": "stream",
     "text": [
      "Done.\n"
     ]
    }
   ],
   "source": [
    "bart cc -p 4 -G ksp_slice ksp_cc"
   ]
  },
  {
   "cell_type": "markdown",
   "metadata": {},
   "source": [
    "`-p` allows us to specify the number of virtual coils we wish to compress to."
   ]
  },
  {
   "cell_type": "code",
   "execution_count": 11,
   "metadata": {},
   "outputs": [
    {
     "name": "stdout",
     "output_type": "stream",
     "text": [
      "Type: complex float\n",
      "Dimensions: 16\n",
      "AoD:\t320\t320\t1\t4\t1\t1\t1\t1\t1\t1\t1\t1\t1\t1\t1\t1\n"
     ]
    }
   ],
   "source": [
    "bart show -m ksp_cc"
   ]
  },
  {
   "cell_type": "markdown",
   "metadata": {},
   "source": [
    "Dimension `3` - the number of coils - has changed to reflect our compression. This looks good, let's take a look at the image in `view`."
   ]
  },
  {
   "cell_type": "code",
   "execution_count": 12,
   "metadata": {},
   "outputs": [
    {
     "name": "stdout",
     "output_type": "stream",
     "text": [
      "[3] 2159\n"
     ]
    }
   ],
   "source": [
    "view ksp_cc&"
   ]
  },
  {
   "cell_type": "markdown",
   "metadata": {},
   "source": [
    "Note that in now we can only toggle the four virtual coils on the right-hand column."
   ]
  },
  {
   "cell_type": "markdown",
   "metadata": {},
   "source": [
    "### Reconstruction via FFT"
   ]
  },
  {
   "cell_type": "markdown",
   "metadata": {},
   "source": [
    "Now, we're going to apply a basic inverse FFT to the K-Space slice to reconstruct the Knee image. Once again, we specify a bitmask, but this time we want to apply our FFT to the dimensions `0` and `1`, or reconstruct our image signal from the spatial frequency and phase encoding dimensions, respectively."
   ]
  },
  {
   "cell_type": "code",
   "execution_count": 14,
   "metadata": {},
   "outputs": [
    {
     "name": "stdout",
     "output_type": "stream",
     "text": [
      "[1]-  Done                    view knee_fft\n",
      "[2]+  Done                    view kspace_fft\n"
     ]
    }
   ],
   "source": [
    "bart fft -i -u $(bart bitmask 0 1) ksp_cc knee"
   ]
  },
  {
   "cell_type": "code",
   "execution_count": 15,
   "metadata": {},
   "outputs": [
    {
     "name": "stdout",
     "output_type": "stream",
     "text": [
      "dbus[1721]: Dynamic session lookup supported but failed: launchd did not provide a socket path, verify that org.freedesktop.dbus-session.plist is loaded!\n"
     ]
    }
   ],
   "source": [
    "view knee"
   ]
  },
  {
   "cell_type": "markdown",
   "metadata": {},
   "source": [
    "Note that we're not done quite yet. If we cycle through the virtual coils in View (adjusting the value of the fourth dimension in the toolbar on the right) we can see that each coil is still contributing different sensitivities to the final image. Let's combine the coils using a Root-Sum-of-Squares (`rss`) calculation as follows:"
   ]
  },
  {
   "cell_type": "code",
   "execution_count": 21,
   "metadata": {},
   "outputs": [],
   "source": [
    "bart rss $(bart bitmask 3) knee knee_combined"
   ]
  },
  {
   "cell_type": "code",
   "execution_count": 22,
   "metadata": {},
   "outputs": [
    {
     "name": "stdout",
     "output_type": "stream",
     "text": [
      "[3] 2079\n"
     ]
    }
   ],
   "source": [
    "view knee_combined&"
   ]
  },
  {
   "cell_type": "markdown",
   "metadata": {},
   "source": []
  }
 ],
 "metadata": {
  "kernelspec": {
   "display_name": "Bash",
   "language": "bash",
   "name": "bash"
  },
  "language_info": {
   "codemirror_mode": "shell",
   "file_extension": ".sh",
   "mimetype": "text/x-sh",
   "name": "bash"
  },
  "toc": {
   "base_numbering": 1,
   "nav_menu": {},
   "number_sections": false,
   "sideBar": true,
   "skip_h1_title": false,
   "title_cell": "Table of Contents",
   "title_sidebar": "Contents",
   "toc_cell": false,
   "toc_position": {},
   "toc_section_display": true,
   "toc_window_display": true
  }
 },
 "nbformat": 4,
 "nbformat_minor": 4
}
