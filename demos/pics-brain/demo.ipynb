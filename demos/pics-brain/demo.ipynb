{
 "cells": [
  {
   "cell_type": "markdown",
   "metadata": {},
   "source": [
    "# Simple Parallel Imaging and Compressed Sensing MRI Workflow using BART\n",
    "\n",
    "To run this notebook, install the bash kernel for Jupyter:  \n",
    "https://github.com/takluyver/bash_kernel\n",
    "\n",
    "```bash\n",
    "pip install bash_kernel\n",
    "python -m bash_kernel.install\n",
    "```\n",
    "\n",
    "In order to view the output files, download and build the open-source bart viewer:  \n",
    "https://github.com/mrirecon/view"
   ]
  },
  {
   "cell_type": "markdown",
   "metadata": {},
   "source": [
    "## Look at acquired undersampled multi-channel kspace of a brain"
   ]
  },
  {
   "cell_type": "code",
   "execution_count": null,
   "metadata": {},
   "outputs": [],
   "source": [
    "view ksp&"
   ]
  },
  {
   "cell_type": "markdown",
   "metadata": {},
   "source": [
    "## Direct FFT reconstruction"
   ]
  },
  {
   "cell_type": "code",
   "execution_count": null,
   "metadata": {},
   "outputs": [],
   "source": [
    "bart fft -i 7 ksp img_fft\n",
    "view img_fft&"
   ]
  },
  {
   "cell_type": "markdown",
   "metadata": {},
   "source": [
    "## Estimate multi-channel sensitivity maps using ecalib"
   ]
  },
  {
   "cell_type": "code",
   "execution_count": null,
   "metadata": {
    "scrolled": false
   },
   "outputs": [],
   "source": [
    "bart ecalib ksp maps\n",
    "view maps&"
   ]
  },
  {
   "cell_type": "markdown",
   "metadata": {},
   "source": [
    "## $\\ell 2$ regularized iterative reconstruction\n",
    "\n",
    "$$\\min_x \\frac{1}{2} \\| F_u S x - y \\|_2^2 + \\frac{\\lambda}{2} \\| x \\|_2^2 $$\n",
    "\n",
    "- $F_u$ is the undersampled DFT operator\n",
    "- $S$ is the multi-channel sensitivity operator\n",
    "- $x$ is the desired image\n",
    "- $y$ is the acquired kspace data\n",
    "- $\\lambda$ is the regularization"
   ]
  },
  {
   "cell_type": "code",
   "execution_count": null,
   "metadata": {},
   "outputs": [],
   "source": [
    "l2=.001\n",
    "bart pics   -R Q:$l2 \\\n",
    "            -i 100 \\\n",
    "            ksp maps img_l2\n",
    "view img_l2&"
   ]
  },
  {
   "cell_type": "markdown",
   "metadata": {},
   "source": [
    "## Total variation (TV) regularized iterative reconstruction\n",
    "\n",
    "$$\\min_x \\frac{1}{2} \\| F_u S x - y \\|_2^2 + \\lambda \\| x \\|_{TV} $$"
   ]
  },
  {
   "cell_type": "code",
   "execution_count": null,
   "metadata": {},
   "outputs": [],
   "source": [
    "l1tv=.001\n",
    "bart pics   -R T:7:0:$l1tv \\\n",
    "            -i 100 \\\n",
    "            ksp maps img_l1tv\n",
    "view img_l1tv&"
   ]
  },
  {
   "cell_type": "markdown",
   "metadata": {},
   "source": [
    "## $\\ell 1$ Wavelet regularized iterative reconstruction\n",
    "\n",
    "$$\\min_x \\frac{1}{2} \\| F_u S x - y \\|_2^2 + \\lambda \\| \\Psi x \\|_1 $$"
   ]
  },
  {
   "cell_type": "code",
   "execution_count": null,
   "metadata": {},
   "outputs": [],
   "source": [
    "l1wav=.001\n",
    "bart pics   -R W:7:0:$l1wav \\\n",
    "            -i 100 \\\n",
    "            ksp maps img_l1wav\n",
    "view img_l1wav&"
   ]
  },
  {
   "cell_type": "markdown",
   "metadata": {
    "collapsed": true
   },
   "source": [
    "## Compare results with the fully-sampled image"
   ]
  },
  {
   "cell_type": "code",
   "execution_count": null,
   "metadata": {},
   "outputs": [],
   "source": [
    "bart join 1 img img_l2 img_l1tv img_l1wav img_compare\n",
    "view img_compare&"
   ]
  },
  {
   "cell_type": "code",
   "execution_count": null,
   "metadata": {
    "collapsed": true
   },
   "outputs": [],
   "source": []
  }
 ],
 "metadata": {
  "kernelspec": {
   "display_name": "Bash",
   "language": "bash",
   "name": "bash"
  },
  "language_info": {
   "codemirror_mode": "shell",
   "file_extension": ".sh",
   "mimetype": "text/x-sh",
   "name": "bash"
  }
 },
 "nbformat": 4,
 "nbformat_minor": 1
}
