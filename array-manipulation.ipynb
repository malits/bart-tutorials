{
 "cells": [
  {
   "cell_type": "markdown",
   "metadata": {},
   "source": [
    "# Array Manipulation and Linear Algebra in BART\n",
    "\n",
    "BART offers a large suite of numerical array manipulation and linear algebra functions. In this notebook, we will explore some of these tools for array manipulation and processing."
   ]
  },
  {
   "cell_type": "code",
   "execution_count": 186,
   "metadata": {},
   "outputs": [
    {
     "name": "stdout",
     "output_type": "stream",
     "text": [
      "Usage: saxpy scale <input1> <input2> <output>\n",
      "\n",
      "Multiply input1 with scale factor and add input2.\n",
      "\n",
      "-h\t\thelp\n"
     ]
    }
   ],
   "source": [
    "cd bart\n",
    ". startup.sh\n",
    "cd .."
   ]
  },
  {
   "cell_type": "code",
   "execution_count": 2,
   "metadata": {},
   "outputs": [
    {
     "name": "stdout",
     "output_type": "stream",
     "text": [
      "BART. Available commands are:\n",
      "avg         bench       bitmask     cabs        caldir      calmat      \n",
      "carg        casorati    cc          ccapply     cdf97       circshift   \n",
      "conj        conv        copy        cpyphs      creal       crop        \n",
      "delta       ecalib      ecaltwo     estdelay    estdims     estshift    \n",
      "estvar      extract     fakeksp     fft         fftmod      fftshift    \n",
      "filter      flatten     flip        fmac        homodyne    invert      \n",
      "itsense     join        lrmatrix    mandelbrot  mip         nlinv       \n",
      "noise       normalize   nrmse       nufft       ones        pattern     \n",
      "phantom     pics        pocsense    poisson     repmat      reshape     \n",
      "resize      rof         rss         sake        saxpy       scale       \n",
      "sdot        show        slice       spow        sqpics      squeeze     \n",
      "std         svd         threshold   toimg       traj        transpose   \n",
      "twixread    var         vec         version     walsh       wave        \n",
      "wavelet     wavepsf     whiten      window      zeros       zexpj       \n"
     ]
    },
    {
     "ename": "",
     "evalue": "1",
     "output_type": "error",
     "traceback": []
    }
   ],
   "source": [
    "bart"
   ]
  },
  {
   "cell_type": "markdown",
   "metadata": {
    "heading_collapsed": true
   },
   "source": [
    "## Generating Values\n",
    "\n",
    "`bart ones`, `bart zeros` and `bart vec` allow us to generate values"
   ]
  },
  {
   "cell_type": "markdown",
   "metadata": {
    "hidden": true
   },
   "source": [
    "### Ones and Zeros"
   ]
  },
  {
   "cell_type": "code",
   "execution_count": 52,
   "metadata": {
    "hidden": true
   },
   "outputs": [
    {
     "name": "stdout",
     "output_type": "stream",
     "text": [
      "Usage: ones dims dim1 ... dimn name\n",
      "\n",
      "Create an array filled with ones with {dims} dimensions of size {dim1} to {dimn}.\n",
      "\n",
      "-h\t\thelp\n"
     ]
    }
   ],
   "source": [
    "bart ones -h"
   ]
  },
  {
   "cell_type": "markdown",
   "metadata": {
    "hidden": true
   },
   "source": [
    "`ones` generates an array of all 1's. Similarly, `zeros` gives us an all-zero array of the specified dimensions "
   ]
  },
  {
   "cell_type": "code",
   "execution_count": 3,
   "metadata": {
    "hidden": true
   },
   "outputs": [],
   "source": [
    "bart ones 1 5 five_ones\n",
    "bart zeros 1 5 five_zeros"
   ]
  },
  {
   "cell_type": "markdown",
   "metadata": {
    "hidden": true
   },
   "source": [
    "Note that the `show` utility allows us to view the generated values"
   ]
  },
  {
   "cell_type": "code",
   "execution_count": 1,
   "metadata": {
    "hidden": true
   },
   "outputs": [
    {
     "name": "stdout",
     "output_type": "stream",
     "text": [
      "Usage: show [-m] [-d d] [-s <string>] [-f <string>] <input>\n",
      "\n",
      "Outputs values or meta data.\n",
      "\n",
      "-m\t\tshow meta data\n",
      "-d dim      \tshow size of dimension\n",
      "-s sep      \tuse <sep> as the separator\n",
      "-f format      \tuse <format> as the format. Default: \"%+e%+ei\"\n",
      "-h\t\thelp\n"
     ]
    }
   ],
   "source": [
    "bart show -h"
   ]
  },
  {
   "cell_type": "code",
   "execution_count": 8,
   "metadata": {
    "hidden": true
   },
   "outputs": [
    {
     "name": "stdout",
     "output_type": "stream",
     "text": [
      "+1.000000+0.000000i\t+1.000000+0.000000i\t+1.000000+0.000000i\t+1.000000+0.000000i\t+1.000000+0.000000i\n",
      "+0.000000+0.000000i\t+0.000000+0.000000i\t+0.000000+0.000000i\t+0.000000+0.000000i\t+0.000000+0.000000i\n"
     ]
    }
   ],
   "source": [
    "## TODO Truncate Format String\n",
    "\n",
    "bart show -f \"%+f%+fi\" five_ones\n",
    "\n",
    "bart show -f \"%+f%+fi\" five_zeros"
   ]
  },
  {
   "cell_type": "markdown",
   "metadata": {
    "hidden": true
   },
   "source": [
    "### Generic Vectors"
   ]
  },
  {
   "cell_type": "markdown",
   "metadata": {
    "hidden": true
   },
   "source": [
    "To create a vector of specific values, we can use `bart vec`:"
   ]
  },
  {
   "cell_type": "code",
   "execution_count": 9,
   "metadata": {
    "hidden": true
   },
   "outputs": [
    {
     "name": "stdout",
     "output_type": "stream",
     "text": [
      "+1.000000+0.000000i\t+2.000000+0.000000i\t+3.000000+0.000000i\t+4.000000+0.000000i\t+5.000000+0.000000i\n"
     ]
    }
   ],
   "source": [
    "bart vec 1 2 3 4 5 test_vec\n",
    "\n",
    "bart show -f \"%+f%+fi\" test_vec"
   ]
  },
  {
   "cell_type": "markdown",
   "metadata": {},
   "source": [
    "## Basic Array Manipulation\n",
    "\n",
    "`bart normalize`, `bart scale`, `bart invert`, `bart flip`"
   ]
  },
  {
   "cell_type": "markdown",
   "metadata": {
    "heading_collapsed": true
   },
   "source": [
    "### Normalizing vectors"
   ]
  },
  {
   "cell_type": "markdown",
   "metadata": {
    "hidden": true
   },
   "source": [
    "Let's normalize our test vector from above"
   ]
  },
  {
   "cell_type": "code",
   "execution_count": 104,
   "metadata": {
    "hidden": true
   },
   "outputs": [
    {
     "name": "stdout",
     "output_type": "stream",
     "text": [
      "Usage: normalize flags <input> <output>\n",
      "\n",
      "Normalize along selected dimensions.\n",
      "\n",
      "-h\t\thelp\n"
     ]
    }
   ],
   "source": [
    "bart normalize -h"
   ]
  },
  {
   "cell_type": "markdown",
   "metadata": {
    "hidden": true
   },
   "source": [
    "Note that we use `-b` to specify a bitmask"
   ]
  },
  {
   "cell_type": "code",
   "execution_count": 10,
   "metadata": {
    "hidden": true
   },
   "outputs": [
    {
     "name": "stdout",
     "output_type": "stream",
     "text": [
      "+1.000000+0.000000i\t+1.000000+0.000000i\t+1.000000+0.000000i\t+1.000000+0.000000i\t+1.000000+0.000000i\n"
     ]
    }
   ],
   "source": [
    "bart normalize -b 0 test_vec normalized_vec\n",
    "\n",
    "bart show  -f \"%+f%+fi\" normalized_vec"
   ]
  },
  {
   "cell_type": "markdown",
   "metadata": {
    "hidden": true
   },
   "source": [
    "Now, we are left with a normalized (unit) vector."
   ]
  },
  {
   "cell_type": "markdown",
   "metadata": {
    "heading_collapsed": true
   },
   "source": [
    "### Scaling by a Real or Complex Value\n",
    "\n",
    "`bart scale` allows us to apply a real or complex scalar to our vector"
   ]
  },
  {
   "cell_type": "code",
   "execution_count": 107,
   "metadata": {
    "hidden": true
   },
   "outputs": [
    {
     "name": "stdout",
     "output_type": "stream",
     "text": [
      "Usage: scale factor <input> <output>\n",
      "\n",
      "Scale array by {factor}. The scale factor can be a complex number.\n",
      "\n",
      "-h\t\thelp\n"
     ]
    }
   ],
   "source": [
    "bart scale -h"
   ]
  },
  {
   "cell_type": "code",
   "execution_count": 11,
   "metadata": {
    "hidden": true
   },
   "outputs": [
    {
     "name": "stdout",
     "output_type": "stream",
     "text": [
      "+5.000000+0.000000i\t+5.000000+0.000000i\t+5.000000+0.000000i\t+5.000000+0.000000i\t+5.000000+0.000000i\n"
     ]
    }
   ],
   "source": [
    "bart scale 5 normalized_vec scaled_vec\n",
    "\n",
    "bart show -f \"%+f%+fi\" scaled_vec"
   ]
  },
  {
   "cell_type": "code",
   "execution_count": 12,
   "metadata": {
    "hidden": true
   },
   "outputs": [
    {
     "name": "stdout",
     "output_type": "stream",
     "text": [
      "+1.000000+1.000000i\t+1.000000+1.000000i\t+1.000000+1.000000i\t+1.000000+1.000000i\t+1.000000+1.000000i\n"
     ]
    }
   ],
   "source": [
    "bart scale 1+1i normalized_vec scaled_complex_vec\n",
    "\n",
    "bart show -f \"%+f%+fi\" scaled_complex_vec"
   ]
  },
  {
   "cell_type": "markdown",
   "metadata": {
    "hidden": true
   },
   "source": [
    "Important: When using a complex number, the imaginary coefficient *must* be included. BART will not recognize `1 + i` as a valid scalar, but `1 + 1i`, as shown above, works perfectly. "
   ]
  },
  {
   "cell_type": "markdown",
   "metadata": {
    "heading_collapsed": true
   },
   "source": [
    "### Elementwise Inversion"
   ]
  },
  {
   "cell_type": "markdown",
   "metadata": {
    "hidden": true
   },
   "source": [
    "Next, we will use `invert` to perform elementwise inversion of our vector."
   ]
  },
  {
   "cell_type": "code",
   "execution_count": 126,
   "metadata": {
    "hidden": true
   },
   "outputs": [
    {
     "name": "stdout",
     "output_type": "stream",
     "text": [
      "Usage: invert <input> <output>\n",
      "\n",
      "Invert array (1 / <input>). The output is set to zero in case of divide by zero.\n",
      "\n",
      "-h\t\thelp\n"
     ]
    }
   ],
   "source": [
    "bart invert -h "
   ]
  },
  {
   "cell_type": "code",
   "execution_count": 13,
   "metadata": {
    "hidden": true
   },
   "outputs": [
    {
     "name": "stdout",
     "output_type": "stream",
     "text": [
      "+1.000000-0.000000i\t+0.500000-0.000000i\t+0.333333-0.000000i\t+0.250000-0.000000i\t+0.200000-0.000000i\n"
     ]
    }
   ],
   "source": [
    "bart invert test_vec inverted_vec\n",
    "\n",
    "bart show -f \"%+f%+fi\" inverted_vec"
   ]
  },
  {
   "cell_type": "markdown",
   "metadata": {
    "hidden": true
   },
   "source": [
    "As described, each element `x` will be replaced by `1 / x`. In the image processing tutorial, we explore the effect of this elementwise transformation on visual data."
   ]
  },
  {
   "cell_type": "markdown",
   "metadata": {
    "heading_collapsed": true
   },
   "source": [
    "### Flipping an Array\n",
    "\n",
    "With `bart flip` we can flip the indices of an array along some dimension. "
   ]
  },
  {
   "cell_type": "code",
   "execution_count": 206,
   "metadata": {
    "hidden": true
   },
   "outputs": [
    {
     "name": "stdout",
     "output_type": "stream",
     "text": [
      "Usage: flip bitmask <input> <output>\n",
      "\n",
      "Flip (reverse) dimensions specified by the {bitmask}.\n",
      "\n",
      "-h\t\thelp\n"
     ]
    }
   ],
   "source": [
    "bart flip -h"
   ]
  },
  {
   "cell_type": "code",
   "execution_count": 17,
   "metadata": {
    "hidden": true
   },
   "outputs": [
    {
     "name": "stdout",
     "output_type": "stream",
     "text": [
      "+5.000000+0.000000i\t+4.000000+0.000000i\t+3.000000+0.000000i\t+2.000000+0.000000i\t+1.000000+0.000000i\n"
     ]
    }
   ],
   "source": [
    "bart flip 1 test_vec flipped_vec\n",
    "\n",
    "bart show -f \"%+f%+fi\" flipped_vec"
   ]
  },
  {
   "cell_type": "markdown",
   "metadata": {},
   "source": [
    "## Summary Statistics\n",
    "\n",
    "`bart std` and `bart vec` offer summary information about an array of data"
   ]
  },
  {
   "cell_type": "markdown",
   "metadata": {},
   "source": [
    "### Standard Deviation and Variance"
   ]
  },
  {
   "cell_type": "markdown",
   "metadata": {},
   "source": [
    "First, we use `bart noise` to apply real-valued noise with a variance of 4 to a vector of all zeros."
   ]
  },
  {
   "cell_type": "code",
   "execution_count": 165,
   "metadata": {},
   "outputs": [
    {
     "name": "stdout",
     "output_type": "stream",
     "text": [
      "Usage: noise [-s d] [-r] [-n f] <input> <output>\n",
      "\n",
      "Add noise with selected variance to input.\n",
      "\n",
      "-s random seed initialization\n",
      "-r\t\treal-valued input\n",
      "-n variance      \tDEFAULT: 1.0\n",
      "-h\t\thelp\n"
     ]
    }
   ],
   "source": [
    "bart noise -h"
   ]
  },
  {
   "cell_type": "code",
   "execution_count": 18,
   "metadata": {},
   "outputs": [
    {
     "name": "stdout",
     "output_type": "stream",
     "text": [
      "+0.567205+0.000000i\t+0.096725+0.000000i\t+4.566258+0.000000i\t-3.144541+0.000000i\t-2.936252+0.000000i\t+1.935789+0.000000i\t-4.396978+0.000000i\t+1.351878+0.000000i\t+0.598076+0.000000i\t+2.039012+0.000000i\n"
     ]
    }
   ],
   "source": [
    "bart ones 1 10 zeros\n",
    "bart noise -n 4 -r zeros noisy_vec\n",
    "\n",
    "bart show -f \"%+f%+fi\" noisy_vec"
   ]
  },
  {
   "cell_type": "markdown",
   "metadata": {},
   "source": [
    "Now, we will explore some summary statistics of our noisy data. Note that we use a bitmask to specify the dimensions across which to average or take the variance of. "
   ]
  },
  {
   "cell_type": "code",
   "execution_count": 174,
   "metadata": {},
   "outputs": [
    {
     "name": "stdout",
     "output_type": "stream",
     "text": [
      "+2.770262e+00+0.000000e+00i\n"
     ]
    }
   ],
   "source": [
    "bart std $(bart bitmask 0) noisy_vec std\n",
    "\n",
    "bart show std"
   ]
  },
  {
   "cell_type": "code",
   "execution_count": 175,
   "metadata": {},
   "outputs": [
    {
     "name": "stdout",
     "output_type": "stream",
     "text": [
      "+7.674354e+00+0.000000e+00i\n"
     ]
    }
   ],
   "source": [
    "bart var $(bart bitmask 0) noisy_vec var\n",
    "\n",
    "bart show var"
   ]
  },
  {
   "cell_type": "markdown",
   "metadata": {},
   "source": [
    "## Multi-Dimensional Data Manipulation\n",
    "\n",
    "`bart extract`, `bart flatten`, `bart repmat`, `bart transpose`"
   ]
  },
  {
   "cell_type": "markdown",
   "metadata": {},
   "source": [
    "### Extracting Data"
   ]
  },
  {
   "cell_type": "code",
   "execution_count": 14,
   "metadata": {},
   "outputs": [],
   "source": [
    "bart phantom -x 5 demo_phantom"
   ]
  },
  {
   "cell_type": "markdown",
   "metadata": {},
   "source": [
    "We'll create a demo $5 x 5$ numerical phantom to extract the columns of"
   ]
  },
  {
   "cell_type": "code",
   "execution_count": 19,
   "metadata": {},
   "outputs": [
    {
     "name": "stdout",
     "output_type": "stream",
     "text": [
      "+0.000000+0.000000i\t+0.000000+0.000000i\t+0.000000+0.000000i\t+0.000000+0.000000i\t+0.000000+0.000000i\n",
      "+0.000000+0.000000i\t+0.200000+0.000000i\t+0.200000+0.000000i\t+0.200000+0.000000i\t+0.000000+0.000000i\n",
      "+0.200000+0.000000i\t+0.300000+0.000000i\t+0.200000+0.000000i\t+0.200000+0.000000i\t+0.200000+0.000000i\n",
      "+0.000000+0.000000i\t+0.200000+0.000000i\t+0.200000+0.000000i\t+0.200000+0.000000i\t+0.000000+0.000000i\n",
      "+0.000000+0.000000i\t+0.000000+0.000000i\t+0.000000+0.000000i\t+0.000000+0.000000i\t+0.000000+0.000000i\n"
     ]
    }
   ],
   "source": [
    "bart show -f \"%+f%+fi\" demo_phantom"
   ]
  },
  {
   "cell_type": "markdown",
   "metadata": {},
   "source": [
    "First, we'll use `extract` to isolate the first two columns. We can specify a dimension (`0`) and appropriately index the columns (`0` to `2`)"
   ]
  },
  {
   "cell_type": "code",
   "execution_count": 194,
   "metadata": {},
   "outputs": [
    {
     "name": "stdout",
     "output_type": "stream",
     "text": [
      "Usage: extract dimension start end <input> <output>\n",
      "\n",
      "Extracts a sub-array along {dim} from index {start} to (not including) {end}.\n",
      "\n",
      "-h\t\thelp\n"
     ]
    }
   ],
   "source": [
    "bart extract -h"
   ]
  },
  {
   "cell_type": "code",
   "execution_count": 21,
   "metadata": {
    "scrolled": true
   },
   "outputs": [
    {
     "name": "stdout",
     "output_type": "stream",
     "text": [
      "+0.000000e+00+0.000000e+00i\t+0.000000e+00+0.000000e+00i\n",
      "+0.000000e+00+0.000000e+00i\t+2.000000e-01+0.000000e+00i\n",
      "+2.000000e-01+0.000000e+00i\t+3.000000e-01+0.000000e+00i\n",
      "+0.000000e+00+0.000000e+00i\t+2.000000e-01+0.000000e+00i\n",
      "+0.000000e+00+0.000000e+00i\t+0.000000e+00+0.000000e+00i\n"
     ]
    }
   ],
   "source": [
    "bart extract 0 0 2 demo_phantom phantom_extracted\n",
    "\n",
    "bart show phantom_extracted"
   ]
  },
  {
   "cell_type": "markdown",
   "metadata": {
    "heading_collapsed": true
   },
   "source": [
    "### Flattening an Array"
   ]
  },
  {
   "cell_type": "code",
   "execution_count": 30,
   "metadata": {
    "hidden": true
   },
   "outputs": [
    {
     "name": "stdout",
     "output_type": "stream",
     "text": [
      "Usage: flatten <input> <output>\n",
      "\n",
      "Flatten array to one dimension.\n",
      "\n",
      "-h\t\thelp\n"
     ]
    }
   ],
   "source": [
    "bart flatten -h"
   ]
  },
  {
   "cell_type": "markdown",
   "metadata": {
    "hidden": true
   },
   "source": [
    "Observe the dimensionality of the original phantom extract"
   ]
  },
  {
   "cell_type": "code",
   "execution_count": 26,
   "metadata": {
    "hidden": true
   },
   "outputs": [
    {
     "name": "stdout",
     "output_type": "stream",
     "text": [
      "Type: complex float\n",
      "Dimensions: 16\n",
      "AoD:\t2\t5\t1\t1\t1\t1\t1\t1\t1\t1\t1\t1\t1\t1\t1\t1\n"
     ]
    }
   ],
   "source": [
    "bart show -m phantom_extracted"
   ]
  },
  {
   "cell_type": "markdown",
   "metadata": {
    "hidden": true
   },
   "source": [
    "Note, after using `flatten`, it has been reduced!"
   ]
  },
  {
   "cell_type": "code",
   "execution_count": 29,
   "metadata": {
    "hidden": true
   },
   "outputs": [
    {
     "name": "stdout",
     "output_type": "stream",
     "text": [
      "Type: complex float\n",
      "Dimensions: 16\n",
      "AoD:\t10\t1\t1\t1\t1\t1\t1\t1\t1\t1\t1\t1\t1\t1\t1\t1\n"
     ]
    }
   ],
   "source": [
    "bart flatten phantom_extracted flattened_demo\n",
    "\n",
    "bart show -m flattened_demo"
   ]
  },
  {
   "cell_type": "markdown",
   "metadata": {
    "heading_collapsed": true
   },
   "source": [
    "### Replicating Arrays"
   ]
  },
  {
   "cell_type": "markdown",
   "metadata": {
    "hidden": true
   },
   "source": [
    "Next, we'll use `repmat` to replicate our matrix or array along a specified dimension."
   ]
  },
  {
   "cell_type": "code",
   "execution_count": 221,
   "metadata": {
    "hidden": true
   },
   "outputs": [
    {
     "name": "stdout",
     "output_type": "stream",
     "text": [
      "Usage: repmat dimension repetitions <input> <output>\n",
      "\n",
      "Repeat input array multiple times along a certain dimension.\n",
      "\n",
      "-h\t\thelp\n"
     ]
    }
   ],
   "source": [
    "bart repmat -h"
   ]
  },
  {
   "cell_type": "markdown",
   "metadata": {
    "hidden": true
   },
   "source": [
    "We create a tensor by replicating this array three times along dimension 2"
   ]
  },
  {
   "cell_type": "code",
   "execution_count": 31,
   "metadata": {
    "hidden": true
   },
   "outputs": [],
   "source": [
    "bart repmat 2 3 phantom_extracted repeated_demo"
   ]
  },
  {
   "cell_type": "markdown",
   "metadata": {
    "hidden": true
   },
   "source": [
    "Now observe what happens if we take `extract` a slice of length 1 along dimension 2"
   ]
  },
  {
   "cell_type": "code",
   "execution_count": 33,
   "metadata": {
    "hidden": true
   },
   "outputs": [
    {
     "name": "stdout",
     "output_type": "stream",
     "text": [
      "+0.000000e+00+0.000000e+00i\t+0.000000e+00+0.000000e+00i\n",
      "+0.000000e+00+0.000000e+00i\t+2.000000e-01+0.000000e+00i\n",
      "+2.000000e-01+0.000000e+00i\t+3.000000e-01+0.000000e+00i\n",
      "+0.000000e+00+0.000000e+00i\t+2.000000e-01+0.000000e+00i\n",
      "+0.000000e+00+0.000000e+00i\t+0.000000e+00+0.000000e+00i\n"
     ]
    }
   ],
   "source": [
    "bart extract 2 0 1 repeated_demo extract_demo\n",
    "\n",
    "bart show extract_demo"
   ]
  },
  {
   "cell_type": "markdown",
   "metadata": {
    "hidden": true
   },
   "source": [
    "We have successfully replicated the array along dimension 2! "
   ]
  },
  {
   "cell_type": "markdown",
   "metadata": {
    "heading_collapsed": true
   },
   "source": [
    "### Transposing a Matrix"
   ]
  },
  {
   "cell_type": "code",
   "execution_count": 240,
   "metadata": {
    "hidden": true
   },
   "outputs": [
    {
     "name": "stdout",
     "output_type": "stream",
     "text": [
      "Type: complex float\n",
      "Dimensions: 16\n",
      "AoD:\t3\t4\t1\t1\t1\t1\t1\t1\t1\t1\t1\t1\t1\t1\t1\t1\n",
      "Type: complex float\n",
      "Dimensions: 16\n",
      "AoD:\t4\t3\t1\t1\t1\t1\t1\t1\t1\t1\t1\t1\t1\t1\t1\t1\n"
     ]
    }
   ],
   "source": [
    "bart transpose 0 1 ones_matrix transposed_ones\n",
    "\n",
    "bart show -m ones_matrix\n",
    "bart show -m transposed_ones"
   ]
  },
  {
   "cell_type": "markdown",
   "metadata": {
    "hidden": true
   },
   "source": [
    "The first set of metadata is that which corresponds to the original matrix. The second corresponds to its transpose."
   ]
  },
  {
   "cell_type": "markdown",
   "metadata": {},
   "source": [
    "## Linear Algebra Functionality"
   ]
  },
  {
   "cell_type": "markdown",
   "metadata": {},
   "source": [
    "### SAXPY\n",
    "\n",
    "`saxpy` ('scalar a x plus y') computes the following scaled vector sum: $$\\vec{z} = {a}\\vec{x} + \\vec{y}$$"
   ]
  },
  {
   "cell_type": "code",
   "execution_count": 241,
   "metadata": {},
   "outputs": [
    {
     "name": "stdout",
     "output_type": "stream",
     "text": [
      "Usage: saxpy scale <input1> <input2> <output>\n",
      "\n",
      "Multiply input1 with scale factor and add input2.\n",
      "\n",
      "-h\t\thelp\n"
     ]
    }
   ],
   "source": [
    "bart saxpy -h"
   ]
  },
  {
   "cell_type": "code",
   "execution_count": 251,
   "metadata": {},
   "outputs": [
    {
     "name": "stdout",
     "output_type": "stream",
     "text": [
      "+6.000000e+00+0.000000e+00i\t+1.200000e+01+0.000000e+00i\t+1.800000e+01+0.000000e+00i\t+2.400000e+01+0.000000e+00i\t+3.000000e+01+0.000000e+00i\n"
     ]
    }
   ],
   "source": [
    "bart vec 1 2 3 4 5 test_vec\n",
    "bart saxpy 5 test_vec test_vec saxpy_out\n",
    "\n",
    "bart show saxpy_out"
   ]
  },
  {
   "cell_type": "markdown",
   "metadata": {},
   "source": [
    "### Dot-Product\n",
    "\n",
    "`sdot` provides standard dot-product functionality"
   ]
  },
  {
   "cell_type": "code",
   "execution_count": 252,
   "metadata": {},
   "outputs": [
    {
     "name": "stdout",
     "output_type": "stream",
     "text": [
      "Usage: sdot <input1> <input2>\n",
      "\n",
      "Compute dot product along selected dimensions.\n",
      "\n",
      "-h\t\thelp\n"
     ]
    }
   ],
   "source": [
    "bart sdot -h"
   ]
  },
  {
   "cell_type": "code",
   "execution_count": 253,
   "metadata": {},
   "outputs": [
    {
     "name": "stdout",
     "output_type": "stream",
     "text": [
      "+5.500000e+01+0.000000e+00i\n"
     ]
    }
   ],
   "source": [
    "bart sdot test_vec test_vec"
   ]
  },
  {
   "cell_type": "markdown",
   "metadata": {},
   "source": [
    "### Singular Value Decomposition\n",
    "\n",
    "Lastly, `bart svd` allows us to compute the SIngular Value Decomposition of a given matrix"
   ]
  },
  {
   "cell_type": "code",
   "execution_count": 255,
   "metadata": {},
   "outputs": [
    {
     "name": "stdout",
     "output_type": "stream",
     "text": [
      "Usage: svd [-e] <input> <U> <S> <VH>\n",
      "\n",
      "Compute singular-value-decomposition (SVD).\n",
      "\n",
      "\n",
      "-e\t\tecon\n",
      "-h\t\thelp\n"
     ]
    }
   ],
   "source": [
    "bart svd -h"
   ]
  },
  {
   "cell_type": "code",
   "execution_count": 256,
   "metadata": {},
   "outputs": [],
   "source": [
    "bart ones 2 4 3 ones_matrix\n",
    "\n",
    "bart svd ones_matrix ones_u ones_s ones_vh"
   ]
  },
  {
   "cell_type": "code",
   "execution_count": 263,
   "metadata": {},
   "outputs": [
    {
     "name": "stdout",
     "output_type": "stream",
     "text": [
      "U:\n",
      "-5.000001e-01+0.000000e+00i\t-5.000000e-01+0.000000e+00i\t-5.000000e-01+0.000000e+00i\t-5.000000e-01+0.000000e+00i\n",
      "+8.660254e-01+0.000000e+00i\t-2.886751e-01+0.000000e+00i\t-2.886751e-01+0.000000e+00i\t-2.886751e-01+0.000000e+00i\n",
      "+0.000000e+00+0.000000e+00i\t-5.773503e-01+0.000000e+00i\t+7.886751e-01+0.000000e+00i\t-2.113249e-01+0.000000e+00i\n",
      "+0.000000e+00+0.000000e+00i\t-5.773503e-01+0.000000e+00i\t-2.113249e-01+0.000000e+00i\t+7.886751e-01+0.000000e+00i\n",
      "Sigma:\n",
      "+3.464102e+00+0.000000e+00i\t+1.685874e-07+0.000000e+00i\t+0.000000e+00+0.000000e+00i\n",
      "V*:\n",
      "-5.773503e-01+0.000000e+00i\t-8.164966e-01+0.000000e+00i\t+0.000000e+00+0.000000e+00i\n",
      "-5.773503e-01+0.000000e+00i\t+4.082482e-01+0.000000e+00i\t-7.071068e-01+0.000000e+00i\n",
      "-5.773503e-01+0.000000e+00i\t+4.082483e-01+0.000000e+00i\t+7.071067e-01+0.000000e+00i\n"
     ]
    }
   ],
   "source": [
    "echo \"U:\"\n",
    "bart show ones_u\n",
    "\n",
    "echo \"Sigma:\"\n",
    "bart show ones_s \n",
    "\n",
    "echo \"V*:\"\n",
    "bart show ones_vh"
   ]
  },
  {
   "cell_type": "code",
   "execution_count": null,
   "metadata": {},
   "outputs": [],
   "source": []
  }
 ],
 "metadata": {
  "kernelspec": {
   "display_name": "Bash",
   "language": "bash",
   "name": "bash"
  },
  "language_info": {
   "codemirror_mode": "shell",
   "file_extension": ".sh",
   "mimetype": "text/x-sh",
   "name": "bash"
  },
  "toc": {
   "base_numbering": 1,
   "nav_menu": {},
   "number_sections": false,
   "sideBar": true,
   "skip_h1_title": true,
   "title_cell": "Table of Contents",
   "title_sidebar": "Contents",
   "toc_cell": false,
   "toc_position": {},
   "toc_section_display": true,
   "toc_window_display": true
  }
 },
 "nbformat": 4,
 "nbformat_minor": 2
}
