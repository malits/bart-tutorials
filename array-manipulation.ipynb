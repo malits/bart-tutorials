{
 "cells": [
  {
   "cell_type": "markdown",
   "metadata": {},
   "source": [
    "# Array Manipulation and Linear Algebra in BART\n",
    "\n",
    "BART offers a large suite of numerical array manipulation and linear algebra tools. In this notebook, we will explore some of this array processing.\n",
    "\n",
    "* Full Tutorials\n",
    "    * [ ] extract\n",
    "    * [ ] flatten\n",
    "    * [ ] flip\n",
    "    * [x] invert\n",
    "    * [x] noise\n",
    "    * [ ] normalize\n",
    "    * [ ] repmat\n",
    "    * [ ] reshape\n",
    "    * [ ] saxpy\n",
    "    * [x] scale\n",
    "    * [ ] sdot\n",
    "    * [ ] std\n",
    "    * [ ] svd\n",
    "    * [ ] transpose\n",
    "    * [x] var\n",
    "    * [x] vec\n",
    "    \n",
    "* **TODO**\n",
    "    * flags for normalize"
   ]
  },
  {
   "cell_type": "code",
   "execution_count": 2,
   "metadata": {},
   "outputs": [
    {
     "name": "stdout",
     "output_type": "stream",
     "text": [
      "BART. Available commands are:\n",
      "avg         bench       bitmask     cabs        caldir      calmat      \n",
      "carg        casorati    cc          ccapply     cdf97       circshift   \n",
      "conj        conv        copy        cpyphs      creal       crop        \n",
      "delta       ecalib      ecaltwo     estdelay    estdims     estshift    \n",
      "estvar      extract     fakeksp     fft         fftmod      fftshift    \n",
      "filter      flatten     flip        fmac        homodyne    invert      \n",
      "itsense     join        lrmatrix    mandelbrot  mip         nlinv       \n",
      "noise       normalize   nrmse       nufft       ones        pattern     \n",
      "phantom     pics        pocsense    poisson     repmat      reshape     \n",
      "resize      rof         rss         sake        saxpy       scale       \n",
      "sdot        show        slice       spow        sqpics      squeeze     \n",
      "std         svd         threshold   toimg       traj        transpose   \n",
      "twixread    var         vec         version     walsh       wave        \n",
      "wavelet     wavepsf     whiten      window      zeros       zexpj       \n"
     ]
    },
    {
     "ename": "",
     "evalue": "1",
     "output_type": "error",
     "traceback": []
    }
   ],
   "source": [
    "bart"
   ]
  },
  {
   "cell_type": "markdown",
   "metadata": {},
   "source": [
    "## Generating Values\n",
    "\n",
    "### `bart ones`, `bart zeros` and `bart vec`\n",
    "\n"
   ]
  },
  {
   "cell_type": "code",
   "execution_count": 52,
   "metadata": {},
   "outputs": [
    {
     "name": "stdout",
     "output_type": "stream",
     "text": [
      "Usage: ones dims dim1 ... dimn name\n",
      "\n",
      "Create an array filled with ones with {dims} dimensions of size {dim1} to {dimn}.\n",
      "\n",
      "-h\t\thelp\n"
     ]
    }
   ],
   "source": [
    "bart ones -h"
   ]
  },
  {
   "cell_type": "markdown",
   "metadata": {},
   "source": [
    "`ones` generates an array of all 1's. Similarly, `zeros` gives us an all-zero array of the specified dimensions "
   ]
  },
  {
   "cell_type": "code",
   "execution_count": 66,
   "metadata": {},
   "outputs": [],
   "source": [
    "bart ones 1 5 five_ones\n",
    "bart zeros 1 5 five_zeros"
   ]
  },
  {
   "cell_type": "markdown",
   "metadata": {},
   "source": [
    "Note that the `show` utility allows us to view the generated values"
   ]
  },
  {
   "cell_type": "code",
   "execution_count": 68,
   "metadata": {},
   "outputs": [
    {
     "name": "stdout",
     "output_type": "stream",
     "text": [
      "Usage: show [-m] [-d d] [-s <string>] [-f <string>] <input>\n",
      "\n",
      "Outputs values or meta data.\n",
      "\n",
      "-m\t\tshow meta data\n",
      "-d dim      \tshow size of dimension\n",
      "-s sep      \tuse <sep> as the separator\n",
      "-f format      \tuse <format> as the format. Default: \"%+e%+ei\"\n",
      "-h\t\thelp\n"
     ]
    }
   ],
   "source": [
    "bart show -h"
   ]
  },
  {
   "cell_type": "code",
   "execution_count": 81,
   "metadata": {},
   "outputs": [
    {
     "name": "stdout",
     "output_type": "stream",
     "text": [
      "+1.000000e+00+0.000000e+00i\t+1.000000e+00+0.000000e+00i\t+1.000000e+00+0.000000e+00i\t+1.000000e+00+0.000000e+00i\t+1.000000e+00+0.000000e+00i\n",
      "+0.000000e+00+0.000000e+00i\t+0.000000e+00+0.000000e+00i\t+0.000000e+00+0.000000e+00i\t+0.000000e+00+0.000000e+00i\t+0.000000e+00+0.000000e+00i\n"
     ]
    }
   ],
   "source": [
    "## TODO Truncate Format String\n",
    "\n",
    "bart show five_ones\n",
    "\n",
    "bart show five_zeros"
   ]
  },
  {
   "cell_type": "markdown",
   "metadata": {},
   "source": [
    "To create a vector of specific values, we can use `bart vec`:"
   ]
  },
  {
   "cell_type": "code",
   "execution_count": 130,
   "metadata": {},
   "outputs": [
    {
     "name": "stdout",
     "output_type": "stream",
     "text": [
      "+1.000000e+00+0.000000e+00i\t+2.000000e+00+0.000000e+00i\t+3.000000e+00+0.000000e+00i\t+4.000000e+00+0.000000e+00i\t+5.000000e+00+0.000000e+00i\n"
     ]
    }
   ],
   "source": [
    "bart vec 1 2 3 4 5 test_vec\n",
    "\n",
    "bart show test_vec"
   ]
  },
  {
   "cell_type": "markdown",
   "metadata": {},
   "source": [
    "## Basic Array Manipulation\n",
    "\n",
    "### `bart normalize`, `bart scale`, `bart invert`"
   ]
  },
  {
   "cell_type": "markdown",
   "metadata": {},
   "source": [
    "Let's normalize our test vector from above"
   ]
  },
  {
   "cell_type": "code",
   "execution_count": 104,
   "metadata": {},
   "outputs": [
    {
     "name": "stdout",
     "output_type": "stream",
     "text": [
      "Usage: normalize flags <input> <output>\n",
      "\n",
      "Normalize along selected dimensions.\n",
      "\n",
      "-h\t\thelp\n"
     ]
    }
   ],
   "source": [
    "bart normalize -h"
   ]
  },
  {
   "cell_type": "markdown",
   "metadata": {},
   "source": [
    "Note that we use `-b` to specify a bitmask"
   ]
  },
  {
   "cell_type": "code",
   "execution_count": 112,
   "metadata": {},
   "outputs": [
    {
     "name": "stdout",
     "output_type": "stream",
     "text": [
      "+1.000000e+00+0.000000e+00i\t+1.000000e+00+0.000000e+00i\t+1.000000e+00+0.000000e+00i\t+1.000000e+00+0.000000e+00i\t+1.000000e+00+0.000000e+00i\n"
     ]
    }
   ],
   "source": [
    "bart normalize -b 0 test_vec normalized_vec\n",
    "\n",
    "bart show normalized_vec"
   ]
  },
  {
   "cell_type": "markdown",
   "metadata": {},
   "source": [
    "Now, we are left with a normalized (unit) vector. Using `bart scale` we can apply a real or complex scalar."
   ]
  },
  {
   "cell_type": "code",
   "execution_count": 107,
   "metadata": {},
   "outputs": [
    {
     "name": "stdout",
     "output_type": "stream",
     "text": [
      "Usage: scale factor <input> <output>\n",
      "\n",
      "Scale array by {factor}. The scale factor can be a complex number.\n",
      "\n",
      "-h\t\thelp\n"
     ]
    }
   ],
   "source": [
    "bart scale -h"
   ]
  },
  {
   "cell_type": "code",
   "execution_count": 108,
   "metadata": {},
   "outputs": [
    {
     "name": "stdout",
     "output_type": "stream",
     "text": [
      "+5.000000e+00+0.000000e+00i\t+5.000000e+00+0.000000e+00i\t+5.000000e+00+0.000000e+00i\t+5.000000e+00+0.000000e+00i\t+5.000000e+00+0.000000e+00i\n"
     ]
    }
   ],
   "source": [
    "bart scale 5 normalized_vec scaled_vec\n",
    "\n",
    "bart show scaled_vec"
   ]
  },
  {
   "cell_type": "code",
   "execution_count": 111,
   "metadata": {},
   "outputs": [
    {
     "name": "stdout",
     "output_type": "stream",
     "text": [
      "+1.000000e+00+1.000000e+00i\t+1.000000e+00+1.000000e+00i\t+1.000000e+00+1.000000e+00i\t+1.000000e+00+1.000000e+00i\t+1.000000e+00+1.000000e+00i\n"
     ]
    }
   ],
   "source": [
    "bart scale 1+1i normalized_vec scaled_complex_vec\n",
    "\n",
    "bart show scaled_complex_vec"
   ]
  },
  {
   "cell_type": "markdown",
   "metadata": {},
   "source": [
    "Important: When using a complex number, the imaginary coefficient *must* be included. BART will not recognize `1 + i` as a valid scalar, but `1 + 1i`, as shown above, works perfectly. \n",
    "\n",
    "Next, we will use `invert` to perform elementwise inversion of our vector."
   ]
  },
  {
   "cell_type": "code",
   "execution_count": 126,
   "metadata": {},
   "outputs": [
    {
     "name": "stdout",
     "output_type": "stream",
     "text": [
      "Usage: invert <input> <output>\n",
      "\n",
      "Invert array (1 / <input>). The output is set to zero in case of divide by zero.\n",
      "\n",
      "-h\t\thelp\n"
     ]
    }
   ],
   "source": [
    "bart invert -h "
   ]
  },
  {
   "cell_type": "code",
   "execution_count": 129,
   "metadata": {},
   "outputs": [
    {
     "name": "stdout",
     "output_type": "stream",
     "text": [
      "+1.000000e+00+0.000000e+00i\t+5.000000e-01+0.000000e+00i\t+3.333333e-01+0.000000e+00i\t+2.500000e-01+0.000000e+00i\t+2.000000e-01+0.000000e+00i\n"
     ]
    }
   ],
   "source": [
    "bart invert test_vec inverted_vec\n",
    "\n",
    "bart show inverted_vec"
   ]
  },
  {
   "cell_type": "markdown",
   "metadata": {},
   "source": [
    "As described, each element `x` will be replaced by `1 / x`. In the image processing tutorial, we explore the effect of this elementwise transformation on visual data."
   ]
  },
  {
   "cell_type": "markdown",
   "metadata": {},
   "source": [
    "## Summary Statistics\n",
    "\n",
    "### `bart std`, `bart var`"
   ]
  },
  {
   "cell_type": "markdown",
   "metadata": {},
   "source": [
    "First, we use `bart noise` to apply real-valued noise with a variance of 4 to a vector of all zeros."
   ]
  },
  {
   "cell_type": "code",
   "execution_count": 165,
   "metadata": {},
   "outputs": [
    {
     "name": "stdout",
     "output_type": "stream",
     "text": [
      "Usage: noise [-s d] [-r] [-n f] <input> <output>\n",
      "\n",
      "Add noise with selected variance to input.\n",
      "\n",
      "-s random seed initialization\n",
      "-r\t\treal-valued input\n",
      "-n variance      \tDEFAULT: 1.0\n",
      "-h\t\thelp\n"
     ]
    }
   ],
   "source": [
    "bart noise -h"
   ]
  },
  {
   "cell_type": "code",
   "execution_count": 173,
   "metadata": {},
   "outputs": [
    {
     "name": "stdout",
     "output_type": "stream",
     "text": [
      "+5.672054e-01+0.000000e+00i\t+9.672512e-02+0.000000e+00i\t+4.566258e+00+0.000000e+00i\t-3.144541e+00+0.000000e+00i\t-2.936252e+00+0.000000e+00i\t+1.935789e+00+0.000000e+00i\t-4.396978e+00+0.000000e+00i\t+1.351878e+00+0.000000e+00i\t+5.980763e-01+0.000000e+00i\t+2.039012e+00+0.000000e+00i\n"
     ]
    }
   ],
   "source": [
    "bart ones 1 10 zeros\n",
    "bart noise -n 4 -r zeros noisy_vec\n",
    "\n",
    "bart show noisy_vec"
   ]
  },
  {
   "cell_type": "markdown",
   "metadata": {},
   "source": [
    "Now, we will explore some summary statistics of our noisy data. Note that we use a bitmask to specify the dimensions across which to average or take the variance of. "
   ]
  },
  {
   "cell_type": "code",
   "execution_count": 174,
   "metadata": {},
   "outputs": [
    {
     "name": "stdout",
     "output_type": "stream",
     "text": [
      "+2.770262e+00+0.000000e+00i\n"
     ]
    }
   ],
   "source": [
    "bart std $(bart bitmask 0) noisy_vec std\n",
    "\n",
    "bart show std"
   ]
  },
  {
   "cell_type": "code",
   "execution_count": 175,
   "metadata": {},
   "outputs": [
    {
     "name": "stdout",
     "output_type": "stream",
     "text": [
      "+7.674354e+00+0.000000e+00i\n"
     ]
    }
   ],
   "source": [
    "bart var $(bart bitmask 0) noisy_vec var\n",
    "\n",
    "bart show var"
   ]
  },
  {
   "cell_type": "code",
   "execution_count": null,
   "metadata": {},
   "outputs": [],
   "source": []
  }
 ],
 "metadata": {
  "kernelspec": {
   "display_name": "Bash",
   "language": "bash",
   "name": "bash"
  },
  "language_info": {
   "codemirror_mode": "shell",
   "file_extension": ".sh",
   "mimetype": "text/x-sh",
   "name": "bash"
  }
 },
 "nbformat": 4,
 "nbformat_minor": 2
}
