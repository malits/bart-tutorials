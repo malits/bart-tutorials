{
 "cells": [
  {
   "cell_type": "markdown",
   "metadata": {},
   "source": [
    "# Image Manipulation in BART\n",
    "\n",
    "In this notebook we will explore BART's capacity for image manipulation.\n",
    "\n",
    "In particular, we will explore the `avg`, `conv`, `crop`, `filter`, `flip`, `invert`, `mip`, `noise`, `phantom`, `repmat`, `reshape`, `resize`, `sdot`, `slice`, and `threshold` commands.\n",
    "\n",
    "# TODO\n",
    "\n",
    "## Full Tutorials\n",
    "\n",
    "* [ ] avg\n",
    "* [x] conv\n",
    "* [x] filter\n",
    "* [x] flip\n",
    "* [ ] invert\n",
    "* [ ] mip\n",
    "* [ ] noise\n",
    "* [x] phantom\n",
    "* [ ] repmat\n",
    "* [ ] reshape\n",
    "* [x] resize\n",
    "* [ ] sdot\n",
    "* [ ] slice\n",
    "* [ ] threshold \n",
    "\n",
    "## Expand\n",
    "\n",
    "* [ ] gnuplot\n",
    "\n",
    "* `phantom`\n",
    " * `-t` flag usage\n",
    " * `-s` understanding coil sensitivity\n",
    " * Phantom in k-space doesn't quite look correct\n",
    " \n",
    "* `avg`\n",
    " * default value of `-W`\n",
    " * intuition for the process\n",
    "\n",
    "## Documentation Observations\n",
    "\n",
    "* `phantom`\n",
    " * `-s` flag cannot have a value greater than 8\n",
    "* `conv`\n",
    " * odd dimensions\n",
    " \n",
    " \n",
    "## Ideas\n",
    "\n",
    "* `resize`\n",
    " * `-c` flag expansion such that the user can assign a specific center point?"
   ]
  },
  {
   "cell_type": "code",
   "execution_count": 44,
   "metadata": {
    "scrolled": false
   },
   "outputs": [
    {
     "name": "stdout",
     "output_type": "stream",
     "text": [
      "BART. Available commands are:\n",
      "avg         bench       bitmask     cabs        caldir      calmat      \n",
      "carg        casorati    cc          ccapply     cdf97       circshift   \n",
      "conj        conv        copy        cpyphs      creal       crop        \n",
      "delta       ecalib      ecaltwo     estdelay    estdims     estshift    \n",
      "estvar      extract     fakeksp     fft         fftmod      fftshift    \n",
      "filter      flatten     flip        fmac        homodyne    invert      \n",
      "itsense     join        lrmatrix    mandelbrot  mip         nlinv       \n",
      "noise       normalize   nrmse       nufft       ones        pattern     \n",
      "phantom     pics        pocsense    poisson     repmat      reshape     \n",
      "resize      rof         rss         sake        saxpy       scale       \n",
      "sdot        show        slice       spow        sqpics      squeeze     \n",
      "std         svd         threshold   toimg       traj        transpose   \n",
      "twixread    var         vec         version     walsh       wave        \n",
      "wavelet     wavepsf     whiten      window      zeros       zexpj       \n"
     ]
    },
    {
     "ename": "",
     "evalue": "1",
     "output_type": "error",
     "traceback": []
    }
   ],
   "source": [
    "bart"
   ]
  },
  {
   "cell_type": "markdown",
   "metadata": {},
   "source": [
    "## Utilities\n",
    "\n",
    "The following function displays images such that we can view the results of our work"
   ]
  },
  {
   "cell_type": "code",
   "execution_count": 3,
   "metadata": {},
   "outputs": [],
   "source": [
    "# BASH function to write BART file to png,\n",
    "# display the png, and then temove it\n",
    "function imshow () {\n",
    "    bart toimg $1 $1\n",
    "    cat $1.png | display\n",
    "    rm $1.png\n",
    "}"
   ]
  },
  {
   "cell_type": "markdown",
   "metadata": {},
   "source": [
    "## Generating a Phantom\n",
    "\n",
    "We will be performing initial manipulations on a Shepp-Logan numerical phantom. A phantom can be generated using the `phantom` command."
   ]
  },
  {
   "cell_type": "code",
   "execution_count": 4,
   "metadata": {},
   "outputs": [
    {
     "name": "stdout",
     "output_type": "stream",
     "text": [
      "Usage: phantom [-s d] [-S d] [-k] [-t <string>] [-x d] [-3] <output>\n",
      "\n",
      "Image and k-space domain phantoms.\n",
      "\n",
      "-s nc      \tnc sensitivities\n",
      "-S Output nc sensitivities\n",
      "-k\t\tk-space\n",
      "-t file      \ttrajectory\n",
      "-x n      \tdimensions in y and z\n",
      "-3\t\t3D\n",
      "-h\t\thelp\n"
     ]
    }
   ],
   "source": [
    "bart phantom -h"
   ]
  },
  {
   "cell_type": "markdown",
   "metadata": {},
   "source": [
    "Note that `-s` cannot be larger than 8"
   ]
  },
  {
   "cell_type": "code",
   "execution_count": 5,
   "metadata": {},
   "outputs": [],
   "source": [
    "bart phantom -x 256 shepp_logan"
   ]
  },
  {
   "cell_type": "markdown",
   "metadata": {},
   "source": [
    "Where we use `-x` to specify the dimension"
   ]
  },
  {
   "cell_type": "code",
   "execution_count": 6,
   "metadata": {},
   "outputs": [
    {
     "name": "stdout",
     "output_type": "stream",
     "text": [
      "Writing 1 image(s)...done.\n"
     ]
    },
    {
     "data": {
      "image/png": "[encoded data removed]"
     },
     "metadata": {},
     "output_type": "display_data"
    }
   ],
   "source": [
    "imshow shepp_logan"
   ]
  },
  {
   "cell_type": "markdown",
   "metadata": {},
   "source": [
    "We can also generate the phantom in K-Space, using the `-k` flag. `-t` specifies a trajectory file.\n",
    "\n",
    "**TODO: TRAJECTORY FILE EXAMPLE**"
   ]
  },
  {
   "cell_type": "code",
   "execution_count": 16,
   "metadata": {},
   "outputs": [
    {
     "name": "stdout",
     "output_type": "stream",
     "text": [
      "Writing 1 image(s)...done.\n"
     ]
    },
    {
     "data": {
      "image/png": "[encoded data removed]"
     },
     "metadata": {},
     "output_type": "display_data"
    }
   ],
   "source": [
    "bart phantom -x 256 -k shepp_logan_k_space\n",
    "\n",
    "imshow shepp_logan_k_space"
   ]
  },
  {
   "cell_type": "markdown",
   "metadata": {},
   "source": [
    "#### TODO: This doesn't look quite right?"
   ]
  },
  {
   "cell_type": "markdown",
   "metadata": {},
   "source": [
    "## ` bart avg`"
   ]
  },
  {
   "cell_type": "code",
   "execution_count": 17,
   "metadata": {},
   "outputs": [
    {
     "name": "stdout",
     "output_type": "stream",
     "text": [
      "Usage: avg [-w] <bitmask> <input> <output>\n",
      "\n",
      "Calculates (weighted) average along dimensions specified by bitmask.\n",
      "\n",
      "-w\t\tweighted average\n",
      "-h\t\thelp\n"
     ]
    }
   ],
   "source": [
    "bart avg -h"
   ]
  },
  {
   "cell_type": "markdown",
   "metadata": {},
   "source": [
    "We use the `bitmask` function to specify dimensions "
   ]
  },
  {
   "cell_type": "markdown",
   "metadata": {},
   "source": [
    "## `bart filter`\n",
    "\n",
    "The `filter` tool applies a simple median filter of length `len` along `dim`"
   ]
  },
  {
   "cell_type": "code",
   "execution_count": 1,
   "metadata": {},
   "outputs": [
    {
     "name": "stdout",
     "output_type": "stream",
     "text": [
      "Usage: filter [-m d] [-l d] <input> <output>\n",
      "\n",
      "Apply filter.\n",
      "\n",
      "\n",
      "-m dim      \tmedian filter along dimension dim\n",
      "-l len      \tlength of filter\n",
      "-h\t\thelp\n"
     ]
    }
   ],
   "source": [
    "bart filter -h"
   ]
  },
  {
   "cell_type": "markdown",
   "metadata": {},
   "source": [
    "the `-m` and `-l` flags are necessary, and the length must be > 0"
   ]
  },
  {
   "cell_type": "code",
   "execution_count": 44,
   "metadata": {},
   "outputs": [],
   "source": [
    "bart filter -m 0 -l 10 shepp_logan shepp_logan_filtered_0"
   ]
  },
  {
   "cell_type": "code",
   "execution_count": 45,
   "metadata": {},
   "outputs": [
    {
     "name": "stdout",
     "output_type": "stream",
     "text": [
      "Writing 1 image(s)...done.\n"
     ]
    },
    {
     "data": {
      "image/png": "[encoded data removed]"
     },
     "metadata": {},
     "output_type": "display_data"
    }
   ],
   "source": [
    "imshow shepp_logan_filtered"
   ]
  },
  {
   "cell_type": "markdown",
   "metadata": {},
   "source": [
    "By changing the `-m` flag, we can modify the dimension along which the filter is applied"
   ]
  },
  {
   "cell_type": "code",
   "execution_count": 47,
   "metadata": {},
   "outputs": [
    {
     "name": "stdout",
     "output_type": "stream",
     "text": [
      "Writing 1 image(s)...done.\n"
     ]
    },
    {
     "data": {
      "image/png": "[encoded data removed]"
     },
     "metadata": {},
     "output_type": "display_data"
    }
   ],
   "source": [
    "bart filter -m 1 -l 10 shepp_logan shepp_logan_filtered_1\n",
    "\n",
    "imshow shepp_logan_filtered_1"
   ]
  },
  {
   "cell_type": "markdown",
   "metadata": {},
   "source": [
    "Below, we increase the length of the filter by modifying the `-l` flag:"
   ]
  },
  {
   "cell_type": "code",
   "execution_count": 48,
   "metadata": {},
   "outputs": [
    {
     "name": "stdout",
     "output_type": "stream",
     "text": [
      "Writing 1 image(s)...done.\n"
     ]
    },
    {
     "data": {
      "image/png": "[encoded data removed]"
     },
     "metadata": {},
     "output_type": "display_data"
    }
   ],
   "source": [
    "bart filter -m 1 -l 20 shepp_logan shepp_logan_filtered_2\n",
    "\n",
    "imshow shepp_logan_filtered_2"
   ]
  },
  {
   "cell_type": "markdown",
   "metadata": {},
   "source": [
    "## `bart conv`\n",
    "\n",
    "BART also features a built in convolution tool. We will create a simple averaging filter and convolve it with the image"
   ]
  },
  {
   "cell_type": "code",
   "execution_count": 70,
   "metadata": {},
   "outputs": [],
   "source": [
    "bart ones 2 11 11 averager"
   ]
  },
  {
   "cell_type": "code",
   "execution_count": 66,
   "metadata": {},
   "outputs": [
    {
     "name": "stdout",
     "output_type": "stream",
     "text": [
      "Type: complex float\n",
      "Dimensions: 16\n",
      "AoD:\t10\t10\t1\t1\t1\t1\t1\t1\t1\t1\t1\t1\t1\t1\t1\t1\n"
     ]
    }
   ],
   "source": [
    "bart show -m averager"
   ]
  },
  {
   "cell_type": "markdown",
   "metadata": {},
   "source": [
    "The `ones` tool creates an array of specified dimensions (2) with each subsequent argument offering the size of that dimension (11 x 11). Note that the dimensions here must be odd **TODO: CLARIFY WHY**"
   ]
  },
  {
   "cell_type": "code",
   "execution_count": 71,
   "metadata": {},
   "outputs": [
    {
     "name": "stdout",
     "output_type": "stream",
     "text": [
      "Usage: conv bitmask <input> <kernel> <output>\n",
      "\n",
      "Performs a convolution along selected dimensions.\n",
      "\n",
      "-h\t\thelp\n"
     ]
    }
   ],
   "source": [
    "bart conv -h"
   ]
  },
  {
   "cell_type": "markdown",
   "metadata": {},
   "source": [
    "Here again we employ the `bitmask` tool to specify the dimensions to convolve on. We will pass in our `averager` filter as the `kernel`. "
   ]
  },
  {
   "cell_type": "code",
   "execution_count": 72,
   "metadata": {},
   "outputs": [],
   "source": [
    "bart conv $(bart bitmask 0 1) shepp_logan averager shepp_logan_averaged"
   ]
  },
  {
   "cell_type": "code",
   "execution_count": 73,
   "metadata": {},
   "outputs": [
    {
     "name": "stdout",
     "output_type": "stream",
     "text": [
      "Writing 1 image(s)...done.\n"
     ]
    },
    {
     "data": {
      "image/png": "[encoded data removed]"
     },
     "metadata": {},
     "output_type": "display_data"
    }
   ],
   "source": [
    "imshow shepp_logan_averaged"
   ]
  },
  {
   "cell_type": "markdown",
   "metadata": {},
   "source": [
    "Observe the effect of the averaging filter on the image: the phantom now appears blurred.\n",
    "\n",
    "Next, we will demonstrate how BART can be used to apply 1-dimensional filters across the `0`-axis and `1`-axis"
   ]
  },
  {
   "cell_type": "code",
   "execution_count": 80,
   "metadata": {},
   "outputs": [
    {
     "name": "stdout",
     "output_type": "stream",
     "text": [
      "Writing 1 image(s)...done.\n"
     ]
    },
    {
     "data": {
      "image/png": "[encoded data removed]"
     },
     "metadata": {},
     "output_type": "display_data"
    }
   ],
   "source": [
    "bart ones 1 11 one_dim_avg\n",
    "bart conv $(bart bitmask 0) shepp_logan one_dim_avg shepp_logan_avg_1d\n",
    "imshow shepp_logan_avg_1d"
   ]
  },
  {
   "cell_type": "code",
   "execution_count": 1,
   "metadata": {},
   "outputs": [
    {
     "name": "stdout",
     "output_type": "stream",
     "text": [
      "bart: /build/bart-HgZJo9/bart-0.4.02/src/num/conv.c:134: conv_plan: Assertion `(1 == idims2[i]) || (idims2[i] == odims[i]) || (idims2[i] == idims1[i])' failed.\n",
      "Aborted (core dumped)\n",
      "Traceback (most recent call last):\n",
      "  File \"/usr/local/bin/imshow\", line 15, in <module>\n",
      "    import sigpy.plot as pl\n",
      "ImportError: No module named sigpy.plot\n"
     ]
    },
    {
     "ename": "",
     "evalue": "1",
     "output_type": "error",
     "traceback": []
    }
   ],
   "source": [
    "bart conv $(bart bitmask 1) shepp_logan one_dim_avg shepp_logan_avg_1d\n",
    "imshow shepp_logan_avg_1d\n",
    "\n",
    "# TODO: Understand and fix this error"
   ]
  },
  {
   "cell_type": "markdown",
   "metadata": {},
   "source": [
    "## `bart [crop|resize]`\n",
    "\n",
    "BART features a crop tool that allows us to crop images along specified dimensions, or a resize tool that can be applied more generally"
   ]
  },
  {
   "cell_type": "code",
   "execution_count": 7,
   "metadata": {},
   "outputs": [
    {
     "name": "stdout",
     "output_type": "stream",
     "text": [
      "Usage: crop dimension size <input> <output>\n",
      "\n",
      "Extracts a sub-array corresponding to the central part of {size} along {dimension}\n",
      "\n",
      "-h\t\thelp\n"
     ]
    }
   ],
   "source": [
    "bart crop -h"
   ]
  },
  {
   "cell_type": "code",
   "execution_count": 24,
   "metadata": {},
   "outputs": [
    {
     "name": "stdout",
     "output_type": "stream",
     "text": [
      "Writing 1 image(s)...done.\n"
     ]
    },
    {
     "data": {
      "image/png": "[encoded data removed]"
     },
     "metadata": {},
     "output_type": "display_data"
    }
   ],
   "source": [
    "bart crop 0 128 shepp_logan cropped_phantom_0\n",
    "\n",
    "imshow cropped_phantom_0"
   ]
  },
  {
   "cell_type": "code",
   "execution_count": 22,
   "metadata": {},
   "outputs": [
    {
     "name": "stdout",
     "output_type": "stream",
     "text": [
      "Writing 1 image(s)...done.\n"
     ]
    },
    {
     "data": {
      "image/png": "[encoded data removed]"
     },
     "metadata": {},
     "output_type": "display_data"
    }
   ],
   "source": [
    "bart crop 1 128 shepp_logan cropped_phantom_1\n",
    "\n",
    "imshow cropped_phantom_1"
   ]
  },
  {
   "cell_type": "markdown",
   "metadata": {},
   "source": [
    "We can see how `crop` commands can be strung together to crop across multiple dimensions"
   ]
  },
  {
   "cell_type": "code",
   "execution_count": 23,
   "metadata": {},
   "outputs": [
    {
     "name": "stdout",
     "output_type": "stream",
     "text": [
      "Writing 1 image(s)...done.\n"
     ]
    },
    {
     "data": {
      "image/png": "[encoded data removed]"
     },
     "metadata": {},
     "output_type": "display_data"
    }
   ],
   "source": [
    "bart crop 1 128 cropped_phantom_0 cropped_phantom\n",
    "\n",
    "imshow cropped_phantom"
   ]
  },
  {
   "cell_type": "markdown",
   "metadata": {},
   "source": [
    "The `resize` allows for more general manipulation of image dimensions"
   ]
  },
  {
   "cell_type": "code",
   "execution_count": 16,
   "metadata": {},
   "outputs": [
    {
     "name": "stdout",
     "output_type": "stream",
     "text": [
      "Usage: resize [-c] dim1 size1 ... dimn sizen <input> <output>\n",
      "\n",
      "Resizes an array along dimensions to sizes by truncating or zero-padding.\n",
      "\n",
      "-c\t\tcenter\n",
      "-h\t\thelp\n"
     ]
    }
   ],
   "source": [
    "bart resize -h"
   ]
  },
  {
   "cell_type": "markdown",
   "metadata": {},
   "source": [
    "Each `dim` is paired with a respective `size`, allowing for eaching enlarging or cropping of images in one command. \n",
    "\n",
    "The previous example is shown below:"
   ]
  },
  {
   "cell_type": "code",
   "execution_count": 25,
   "metadata": {},
   "outputs": [
    {
     "name": "stdout",
     "output_type": "stream",
     "text": [
      "Writing 1 image(s)...done.\n"
     ]
    },
    {
     "data": {
      "image/png": "[encoded data removed]"
     },
     "metadata": {},
     "output_type": "display_data"
    }
   ],
   "source": [
    "bart resize -c 0 128 1 128 shepp_logan resized_phantom\n",
    "\n",
    "imshow resized_phantom"
   ]
  },
  {
   "cell_type": "markdown",
   "metadata": {},
   "source": [
    "The `-c` flag centers the cropping. Without this flag, we crop to the corner"
   ]
  },
  {
   "cell_type": "code",
   "execution_count": 26,
   "metadata": {},
   "outputs": [
    {
     "name": "stdout",
     "output_type": "stream",
     "text": [
      "Writing 1 image(s)...done.\n"
     ]
    },
    {
     "data": {
      "image/png": "[encoded data removed]"
     },
     "metadata": {},
     "output_type": "display_data"
    }
   ],
   "source": [
    "bart resize 0 128 1 128 shepp_logan resized_phantom\n",
    "imshow resized_phantom"
   ]
  },
  {
   "cell_type": "markdown",
   "metadata": {},
   "source": [
    "Next, we will enlarge the phantom. `crop` zero pads the image. "
   ]
  },
  {
   "cell_type": "code",
   "execution_count": 29,
   "metadata": {},
   "outputs": [
    {
     "name": "stdout",
     "output_type": "stream",
     "text": [
      "Writing 1 image(s)...done.\n"
     ]
    },
    {
     "data": {
      "image/png": "[encoded data removed]"
     },
     "metadata": {},
     "output_type": "display_data"
    }
   ],
   "source": [
    "bart resize 0 512 1 512 shepp_logan enlarged_phantom\n",
    "imshow enlarged_phantom"
   ]
  },
  {
   "cell_type": "code",
   "execution_count": 30,
   "metadata": {},
   "outputs": [
    {
     "name": "stdout",
     "output_type": "stream",
     "text": [
      "Writing 1 image(s)...done.\n"
     ]
    },
    {
     "data": {
      "image/png": "[encoded data removed]"
     },
     "metadata": {},
     "output_type": "display_data"
    }
   ],
   "source": [
    "bart resize -c 0 512 1 512 shepp_logan enlarged_phantom\n",
    "imshow enlarged_phantom"
   ]
  },
  {
   "cell_type": "markdown",
   "metadata": {},
   "source": [
    "## `bart flip`\n",
    "\n",
    "This tool allows us to reverse an image's dimensions"
   ]
  },
  {
   "cell_type": "code",
   "execution_count": 32,
   "metadata": {},
   "outputs": [
    {
     "name": "stdout",
     "output_type": "stream",
     "text": [
      "Usage: flip bitmask <input> <output>\n",
      "\n",
      "Flip (reverse) dimensions specified by the {bitmask}.\n",
      "\n",
      "-h\t\thelp\n"
     ]
    }
   ],
   "source": [
    "bart flip -h"
   ]
  },
  {
   "cell_type": "markdown",
   "metadata": {},
   "source": [
    "The following cells demonstrate flips along dimensions `0`, `1` and both"
   ]
  },
  {
   "cell_type": "code",
   "execution_count": 39,
   "metadata": {},
   "outputs": [
    {
     "name": "stdout",
     "output_type": "stream",
     "text": [
      "Writing 1 image(s)...done.\n"
     ]
    },
    {
     "data": {
      "image/png": "[encoded data removed]"
     },
     "metadata": {},
     "output_type": "display_data"
    },
    {
     "name": "stdout",
     "output_type": "stream",
     "text": [
      "Writing 1 image(s)...done.\n"
     ]
    },
    {
     "data": {
      "image/png": "[encoded data removed]"
     },
     "metadata": {},
     "output_type": "display_data"
    }
   ],
   "source": [
    "bart flip $(bart bitmask 0) shepp_logan flipped_phantom_0\n",
    "imshow shepp_logan \n",
    "imshow flipped_phantom_0"
   ]
  },
  {
   "cell_type": "code",
   "execution_count": 41,
   "metadata": {},
   "outputs": [
    {
     "name": "stdout",
     "output_type": "stream",
     "text": [
      "Writing 1 image(s)...done.\n"
     ]
    },
    {
     "data": {
      "image/png": "[encoded data removed]"
     },
     "metadata": {},
     "output_type": "display_data"
    },
    {
     "name": "stdout",
     "output_type": "stream",
     "text": [
      "Writing 1 image(s)...done.\n"
     ]
    },
    {
     "data": {
      "image/png": "[encoded data removed]"
     },
     "metadata": {},
     "output_type": "display_data"
    }
   ],
   "source": [
    "bart flip $(bart bitmask 1) shepp_logan flipped_phantom_1\n",
    "imshow shepp_logan \n",
    "imshow flipped_phantom_1"
   ]
  },
  {
   "cell_type": "code",
   "execution_count": 42,
   "metadata": {},
   "outputs": [
    {
     "name": "stdout",
     "output_type": "stream",
     "text": [
      "Writing 1 image(s)...done.\n"
     ]
    },
    {
     "data": {
      "image/png": "[encoded data removed]"
     },
     "metadata": {},
     "output_type": "display_data"
    },
    {
     "name": "stdout",
     "output_type": "stream",
     "text": [
      "Writing 1 image(s)...done.\n"
     ]
    },
    {
     "data": {
      "image/png": "[encoded data removed]"
     },
     "metadata": {},
     "output_type": "display_data"
    }
   ],
   "source": [
    "bart flip $(bart bitmask 0 1) shepp_logan flipped_phantom_01\n",
    "imshow shepp_logan \n",
    "imshow flipped_phantom_01"
   ]
  },
  {
   "cell_type": "markdown",
   "metadata": {},
   "source": [
    "## `bart invert`\n",
    "\n",
    "The `invert` tool can be applied to images as well as arrays"
   ]
  },
  {
   "cell_type": "code",
   "execution_count": 45,
   "metadata": {},
   "outputs": [
    {
     "name": "stdout",
     "output_type": "stream",
     "text": [
      "Usage: invert <input> <output>\n",
      "\n",
      "Invert array (1 / <input>). The output is set to zero in case of divide by zero.\n",
      "\n",
      "-h\t\thelp\n"
     ]
    }
   ],
   "source": [
    "bart invert -h"
   ]
  },
  {
   "cell_type": "code",
   "execution_count": 46,
   "metadata": {},
   "outputs": [
    {
     "name": "stdout",
     "output_type": "stream",
     "text": [
      "Writing 1 image(s)...done.\n"
     ]
    },
    {
     "data": {
      "image/png": "[encoded data removed]"
     },
     "metadata": {},
     "output_type": "display_data"
    }
   ],
   "source": [
    "bart invert shepp_logan inverse_phantom\n",
    "imshow inverse_phantom"
   ]
  },
  {
   "cell_type": "code",
   "execution_count": null,
   "metadata": {},
   "outputs": [],
   "source": []
  }
 ],
 "metadata": {
  "kernelspec": {
   "display_name": "Bash",
   "language": "bash",
   "name": "bash"
  },
  "language_info": {
   "codemirror_mode": "shell",
   "file_extension": ".sh",
   "mimetype": "text/x-sh",
   "name": "bash"
  }
 },
 "nbformat": 4,
 "nbformat_minor": 2
}
