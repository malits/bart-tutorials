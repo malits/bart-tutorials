{
 "cells": [
  {
   "cell_type": "markdown",
   "metadata": {},
   "source": [
    "# Image Manipulation in BART\n",
    "\n",
    "In this notebook we will explore BART's capacity for image manipulation.\n",
    "\n",
    "In particular, we will explore the `avg`, `conv`, `crop`, `filter`, `flatten`, `flip`, `invert`, `mip`, `noise`, `phantom`, `repmat`, `reshape`, `resize`, `sdot`, `slice`, and `threshold` commands.\n",
    "\n",
    "## TODO\n",
    "\n",
    "* [ ] gnuplot\n",
    "\n",
    "* `phantom`\n",
    " * `-t` flag usage\n",
    " * `-s` understanding coil sensitivity\n",
    " * Phantom in k-space doesn't quite look correct\n",
    " \n",
    "* `avg`\n",
    " * default value of `-W`\n",
    " * intuition for the process\n",
    "\n",
    "## Documentation Observations\n",
    "\n",
    "* `phantom`\n",
    " * `-s` flag cannot have a value greater than 8"
   ]
  },
  {
   "cell_type": "code",
   "execution_count": 1,
   "metadata": {
    "scrolled": false
   },
   "outputs": [
    {
     "name": "stdout",
     "output_type": "stream",
     "text": [
      "BART. Available commands are:\n",
      "avg         bench       bitmask     cabs        caldir      calmat      \n",
      "carg        casorati    cc          ccapply     cdf97       circshift   \n",
      "conj        conv        copy        cpyphs      creal       crop        \n",
      "delta       ecalib      ecaltwo     estdelay    estdims     estshift    \n",
      "estvar      extract     fakeksp     fft         fftmod      fftshift    \n",
      "filter      flatten     flip        fmac        homodyne    invert      \n",
      "itsense     join        lrmatrix    mandelbrot  mip         nlinv       \n",
      "noise       normalize   nrmse       nufft       ones        pattern     \n",
      "phantom     pics        pocsense    poisson     repmat      reshape     \n",
      "resize      rof         rss         sake        saxpy       scale       \n",
      "sdot        show        slice       spow        sqpics      squeeze     \n",
      "std         svd         threshold   toimg       traj        transpose   \n",
      "twixread    var         vec         version     walsh       wave        \n",
      "wavelet     wavepsf     whiten      window      zeros       zexpj       \n"
     ]
    },
    {
     "ename": "",
     "evalue": "1",
     "output_type": "error",
     "traceback": []
    }
   ],
   "source": [
    "bart"
   ]
  },
  {
   "cell_type": "markdown",
   "metadata": {},
   "source": [
    "## Utilities\n",
    "\n",
    "The following function displays images such that we can view the results of our work"
   ]
  },
  {
   "cell_type": "code",
   "execution_count": 7,
   "metadata": {},
   "outputs": [],
   "source": [
    "# BASH function to write BART file to png,\n",
    "# display the png, and then temove it\n",
    "function imshow () {\n",
    "    bart toimg $1 $1\n",
    "    cat $1.png | display\n",
    "    rm $1.png\n",
    "}"
   ]
  },
  {
   "cell_type": "markdown",
   "metadata": {},
   "source": [
    "## Generating a Phantom\n",
    "\n",
    "We will be performing initial manipulations on a Shepp-Logan numerical phantom. A phantom can be generated using the `phantom` command."
   ]
  },
  {
   "cell_type": "code",
   "execution_count": 20,
   "metadata": {},
   "outputs": [
    {
     "name": "stdout",
     "output_type": "stream",
     "text": [
      "Usage: phantom [-s d] [-S d] [-k] [-t <string>] [-x d] [-3] <output>\n",
      "\n",
      "Image and k-space domain phantoms.\n",
      "\n",
      "-s nc      \tnc sensitivities\n",
      "-S Output nc sensitivities\n",
      "-k\t\tk-space\n",
      "-t file      \ttrajectory\n",
      "-x n      \tdimensions in y and z\n",
      "-3\t\t3D\n",
      "-h\t\thelp\n"
     ]
    }
   ],
   "source": [
    "bart phantom -h"
   ]
  },
  {
   "cell_type": "markdown",
   "metadata": {},
   "source": [
    "Note that `-s` cannot be larger than 8"
   ]
  },
  {
   "cell_type": "code",
   "execution_count": 13,
   "metadata": {},
   "outputs": [],
   "source": [
    "bart phantom -x 256 shepp_logan"
   ]
  },
  {
   "cell_type": "markdown",
   "metadata": {},
   "source": [
    "Where we use `-x` to specify the dimension"
   ]
  },
  {
   "cell_type": "code",
   "execution_count": 14,
   "metadata": {},
   "outputs": [
    {
     "name": "stdout",
     "output_type": "stream",
     "text": [
      "Writing 1 image(s)...done.\n"
     ]
    },
    {
     "data": {
      "image/png": "[encoded data removed]"
     },
     "metadata": {},
     "output_type": "display_data"
    }
   ],
   "source": [
    "imshow shepp_logan"
   ]
  },
  {
   "cell_type": "markdown",
   "metadata": {},
   "source": [
    "We can also generate the phantom in K-Space, using the `-k` flag. `-t` specifies a trajectory file."
   ]
  },
  {
   "cell_type": "code",
   "execution_count": 16,
   "metadata": {},
   "outputs": [
    {
     "name": "stdout",
     "output_type": "stream",
     "text": [
      "Writing 1 image(s)...done.\n"
     ]
    },
    {
     "data": {
      "image/png": "[encoded data removed]"
     },
     "metadata": {},
     "output_type": "display_data"
    }
   ],
   "source": [
    "bart phantom -x 256 -k shepp_logan_k_space\n",
    "\n",
    "imshow shepp_logan_k_space"
   ]
  },
  {
   "cell_type": "markdown",
   "metadata": {},
   "source": [
    "#### TODO: This doesn't look quite right?"
   ]
  },
  {
   "cell_type": "markdown",
   "metadata": {},
   "source": [
    "## ` bart avg`"
   ]
  },
  {
   "cell_type": "code",
   "execution_count": 17,
   "metadata": {},
   "outputs": [
    {
     "name": "stdout",
     "output_type": "stream",
     "text": [
      "Usage: avg [-w] <bitmask> <input> <output>\n",
      "\n",
      "Calculates (weighted) average along dimensions specified by bitmask.\n",
      "\n",
      "-w\t\tweighted average\n",
      "-h\t\thelp\n"
     ]
    }
   ],
   "source": [
    "bart avg -h"
   ]
  },
  {
   "cell_type": "markdown",
   "metadata": {},
   "source": [
    "We use the `bitmask` function to specify dimensions "
   ]
  },
  {
   "cell_type": "code",
   "execution_count": null,
   "metadata": {},
   "outputs": [
    {
     "name": "stdout",
     "output_type": "stream",
     "text": [
      "4: command not found\n"
     ]
    }
   ],
   "source": [
    "`$(bart bitmask 2)`"
   ]
  },
  {
   "cell_type": "code",
   "execution_count": null,
   "metadata": {},
   "outputs": [],
   "source": []
  }
 ],
 "metadata": {
  "kernelspec": {
   "display_name": "Bash",
   "language": "bash",
   "name": "bash"
  },
  "language_info": {
   "codemirror_mode": "shell",
   "file_extension": ".sh",
   "mimetype": "text/x-sh",
   "name": "bash"
  }
 },
 "nbformat": 4,
 "nbformat_minor": 2
}
